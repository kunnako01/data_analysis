{
 "cells": [
  {
   "cell_type": "code",
   "execution_count": 76,
   "metadata": {},
   "outputs": [],
   "source": [
    "from facebook_business.api import FacebookAdsApi\n",
    "from facebook_business.adobjects.adaccount import AdAccount\n",
    "import pandas as pd\n",
    "import gspread\n",
    "import json\n",
    "\n",
    "from sqlalchemy import create_engine\n",
    "\n",
    "\n",
    "from gspread_dataframe import set_with_dataframe\n",
    "from pipedrive.client import Client\n",
    "# from main.apps.pat_bot.models import ZcomProspects\n",
    "gc = gspread.service_account(filename=\"./credentials.json\")\n",
    "\n",
    "import environ\n",
    "env = environ.Env()\n",
    "database_url = env.str(\n",
    "    var=\"DATABASE_URL\", default=\"postgres://postgres:@postgres:5432/postgres\"\n",
    ")\n",
    "engine = create_engine(database_url, echo=False)\n",
    "client = Client(domain='https://codium2.pipedrive.com/')\n",
    "client.set_api_token('c70f38803bb436089bce792681cd178e8459c86e')"
   ]
  },
  {
   "cell_type": "code",
   "execution_count": 77,
   "metadata": {},
   "outputs": [],
   "source": [
    "def col_name_piped_act():\n",
    "    return ['id', 'company_id', 'user_id', 'done', 'type', 'reference_type', 'reference_id',\n",
    "      'conference_meeting_client', 'conference_meeting_url', 'due_date', 'due_time', 'duration',\n",
    "      'busy_flag', 'add_time', 'marked_as_done_time', 'last_notification_time',\n",
    "      'last_notification_user_id', 'notification_language_id', 'subject', 'public_description',\n",
    "      'calendar_sync_include_context', 'location', 'org_id', 'person_id', 'deal_id', 'lead_id', 'lead_title',\n",
    "      'active_flag', 'update_time', 'update_user_id', 'gcal_event_id', 'google_calendar_id',\n",
    "      'google_calendar_etag', 'source_timezone', 'rec_rule', 'rec_rule_extension', 'rec_master_activity_id',\n",
    "      'conference_meeting_id', 'note', 'created_by_user_id', 'location_subpremise', 'location_street_number',\n",
    "      'location_route', 'location_sublocality', 'location_locality', 'location_admin_area_level_1',\n",
    "      'location_admin_area_level_2', 'location_country', 'location_postal_code',\n",
    "      'location_formatted_address', ]"
   ]
  },
  {
   "cell_type": "code",
   "execution_count": 107,
   "metadata": {},
   "outputs": [],
   "source": [
    "def load_pipedrive_data():\n",
    "    col = col_name_piped_act()\n",
    "\n",
    "    # activities\n",
    "    act_data = client.activities.get_all_activities(\n",
    "        params={\"limit\": \"100000\"}\n",
    "    )\n",
    "    act_data = pd.DataFrame(act_data[\"data\"])\n",
    "    act_data = act_data[col]\n",
    "\n",
    "    act_data.to_sql(\"etl_sale_activities\", engine, if_exists=\"replace\", index=False)\n",
    "\n",
    "    # stages\n",
    "    stages_data = client.stages.get_all_stages()\n",
    "    stages_data = pd.DataFrame(stages_data[\"data\"])\n",
    "\n",
    "    stages_data.to_sql(\"etl_sale_stages\", engine, if_exists=\"replace\", index=False)\n",
    "\n",
    "    # deals\n",
    "    product_df = get_pipedrive_product()\n",
    "    product_df = product_df[[\"product_id\", \"product_name\", \"deal_id\"]]\n",
    "    deals_data = client.deals.get_all_deals(params={\"limit\": \"100000\"})\n",
    "    deals_data = pd.DataFrame(deals_data[\"data\"])\n",
    "    deals_data = deals_data[deals_data['pipeline_id'] == 10]\n",
    "\n",
    "    deals_data[\"creator_user_id\"] = list(\n",
    "        map(lambda x: json.dumps(x), deals_data[\"creator_user_id\"])\n",
    "    )\n",
    "    deals_data[\"person_id\"] = list(\n",
    "        map(lambda x: json.dumps(x), deals_data[\"person_id\"])\n",
    "    )\n",
    "    deals_data[\"user_id\"] = list(map(lambda x: json.dumps(x), deals_data[\"user_id\"]))\n",
    "    deals_data[\"org_id\"] = list(map(lambda x: json.dumps(x), deals_data[\"org_id\"]))\n",
    "\n",
    "    ddf_re = deals_data.rename(columns={\"id\": \"deal_id\", 'd25eed5492b16b35a856444f2a9663c1c0261584' : 'sales_person',\n",
    "                                       '322d77c1eb7f3a30eac9d35c874cace212959cec': 'One_time_fee', \n",
    "                                       '583b1978a81b12771c0ba83ae6fbe088d7edd11f': 'Monthly_fee'})\n",
    "    ddf_re = get_detail_sale(ddf_re)\n",
    "    ddf_join = ddf_re.join(product_df.set_index(\"deal_id\"), on=\"deal_id\")\n",
    "\n",
    "    ddf_join.to_sql(\"etl_sale_deals\", engine, if_exists=\"replace\", index=False)\n",
    "\n",
    "    # deal time range of stage\n",
    "    deal_id = list(deals_data[\"id\"])\n",
    "\n",
    "    time_stage = get_pipedrive_stages_time(deal_id)\n",
    "\n",
    "    time_stage.to_sql(\n",
    "        \"etl_sale_deals_time_of_stage_open\", engine, if_exists=\"replace\", index=False\n",
    "    )\n"
   ]
  },
  {
   "cell_type": "code",
   "execution_count": 108,
   "metadata": {},
   "outputs": [],
   "source": [
    "def get_pipedrive_product():\n",
    "    product = client.products.get_all_products(params={\"limit\": \"100000\"})\n",
    "    product = pd.DataFrame(product[\"data\"])\n",
    "    product_id = list(product[\"id\"])\n",
    "\n",
    "    product_list = list()\n",
    "    for i in product_id:\n",
    "        pdp = client.products.get_product_deal(str(i))\n",
    "        if pdp[\"data\"]:\n",
    "            for j in pdp[\"data\"]:\n",
    "                product_list.append({\"product_id\": i, \"deal_id\": j[\"id\"]})\n",
    "    product_list = pd.DataFrame(product_list)\n",
    "    product_re = product.rename(columns={\"id\": \"product_id\"})\n",
    "    product_df = product_list.join(product_re.set_index(\"product_id\"), on=\"product_id\")\n",
    "    product_df = product_df.rename(columns={\"name\": \"product_name\"})\n",
    "\n",
    "    return product_df"
   ]
  },
  {
   "cell_type": "code",
   "execution_count": 109,
   "metadata": {},
   "outputs": [],
   "source": [
    "def get_pipedrive_stages_time(data):\n",
    "    get_deals_list = list()\n",
    "    for i in data:\n",
    "        deal_de = client.deals.get_deal(deal_id=int(i))\n",
    "        get_deals_list.append(deal_de[\"data\"])\n",
    "    gd_pd = pd.DataFrame(get_deals_list)\n",
    "    time_stay_stage = gd_pd[['stay_in_pipeline_stages', 'id', 'pipeline_id', 'status']]\n",
    "\n",
    "    df = time_range_stage(time_stay_stage)\n",
    "\n",
    "    ddf = time_stay_stage.merge(df, 'inner', on='id')\n",
    "    ddf = ddf.rename(columns={'id': 'deal_id'})\n",
    "    ddf = ddf.drop(columns=['stay_in_pipeline_stages'])\n",
    "\n",
    "    return ddf"
   ]
  },
  {
   "cell_type": "code",
   "execution_count": 110,
   "metadata": {},
   "outputs": [],
   "source": [
    "def time_range_stage(data):\n",
    "    time_list2 = []\n",
    "    stage_pipeline = {1: [1, 62, 2, 69, 5, 4, 35], 5: [24, 64, 25, 68, 26, 27, 65],\n",
    "                      10: [55, 61, 80, 56, 79, 81, 67, 57, 58]}\n",
    "    for idx, row in data.iterrows():\n",
    "        time_range = row['stay_in_pipeline_stages']['times_in_stages']\n",
    "        if row['status'] in ['won', 'lost', 'open']:\n",
    "            if row['pipeline_id'] == 1:\n",
    "                time_list2.append(cal_time(time_range, row, stage_pipeline[1]))\n",
    "\n",
    "            elif row['pipeline_id'] == 5:\n",
    "                time_list2.append(cal_time(time_range, row, stage_pipeline[5]))\n",
    "\n",
    "            elif row['pipeline_id'] == 10:\n",
    "                time_list2.append(cal_time(time_range, row, stage_pipeline[10]))\n",
    "\n",
    "    tl_df = pd.DataFrame(time_list2)\n",
    "\n",
    "    return tl_df"
   ]
  },
  {
   "cell_type": "code",
   "execution_count": 111,
   "metadata": {},
   "outputs": [],
   "source": [
    "def cal_time(time_range, row, stage):\n",
    "    time_dict = {}\n",
    "    time_sum = 0\n",
    "    sum_time_list = []\n",
    "\n",
    "    for ind in stage:\n",
    "        if str(ind) in time_range.keys():\n",
    "            time_sum += time_range[str(ind)]\n",
    "        sum_time_list.append(time_sum)\n",
    "    time_dict['lead_to_meeting'] = sum_time_list[3]\n",
    "    time_dict['meeting_to_Final'] = sum_time_list[6]\n",
    "    time_dict['id'] = row['id']\n",
    "\n",
    "    return time_dict"
   ]
  },
  {
   "cell_type": "code",
   "execution_count": 112,
   "metadata": {},
   "outputs": [],
   "source": [
    "def get_detail_sale(data):\n",
    "    data.reset_index(drop=True, inplace=True)\n",
    "    sales_name = {37: 'Toon', 38: 'Jeff', 39 : 'Chompoo'}\n",
    "    for i, row in data.iterrows():\n",
    "        if row['sales_person']:\n",
    "            word = list(map(int, row['sales_person'].split(',')))\n",
    "            data.sales_person.iloc._setitem_with_indexer(i, sales_name[word[0]])\n",
    "    return data"
   ]
  },
  {
   "cell_type": "code",
   "execution_count": 113,
   "metadata": {},
   "outputs": [
    {
     "name": "stderr",
     "output_type": "stream",
     "text": [
      "<ipython-input-112-5372860ca877>:7: SettingWithCopyWarning: \n",
      "A value is trying to be set on a copy of a slice from a DataFrame\n",
      "\n",
      "See the caveats in the documentation: https://pandas.pydata.org/pandas-docs/stable/user_guide/indexing.html#returning-a-view-versus-a-copy\n",
      "  data.sales_person.iloc._setitem_with_indexer(i, sales_name[word[0]])\n"
     ]
    }
   ],
   "source": [
    "load_pipedrive_data()"
   ]
  },
  {
   "cell_type": "code",
   "execution_count": 114,
   "metadata": {},
   "outputs": [
    {
     "name": "stdout",
     "output_type": "stream",
     "text": [
      "จัดจัดจัดจัดจัดจัดจัดจัดจัดจัดจัดจัดจัดจัดจัดจัดจัดจัดจัดจัดจัดจัดจัดจัดจัดจัดจัดจัดจัดจัดจัดจัดจัด"
     ]
    }
   ],
   "source": [
    "for i in range(33):\n",
    "    print('จัด', end='')"
   ]
  },
  {
   "cell_type": "code",
   "execution_count": null,
   "metadata": {},
   "outputs": [],
   "source": []
  },
  {
   "cell_type": "code",
   "execution_count": null,
   "metadata": {},
   "outputs": [],
   "source": []
  }
 ],
 "metadata": {
  "kernelspec": {
   "display_name": "Django Shell-Plus",
   "language": "python",
   "name": "django_extensions"
  },
  "language_info": {
   "codemirror_mode": {
    "name": "ipython",
    "version": 3
   },
   "file_extension": ".py",
   "mimetype": "text/x-python",
   "name": "python",
   "nbconvert_exporter": "python",
   "pygments_lexer": "ipython3",
   "version": "3.8.7"
  }
 },
 "nbformat": 4,
 "nbformat_minor": 4
}
