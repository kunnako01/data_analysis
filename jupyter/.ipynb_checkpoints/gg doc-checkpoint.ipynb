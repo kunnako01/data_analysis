{
 "cells": [
  {
   "cell_type": "code",
   "execution_count": 1,
   "metadata": {},
   "outputs": [],
   "source": [
    "import datetime\n",
    "import email\n",
    "import io\n",
    "import json\n",
    "import re\n",
    "from os import path\n",
    "\n",
    "import environ\n",
    "import gspread\n",
    "from gspread_dataframe import set_with_dataframe\n",
    "import pandas as pd\n",
    "from dateutil import parser\n",
    "from django.conf import settings\n",
    "from django.core.files.images import ImageFile\n",
    "from facebook_business import FacebookAdsApi\n",
    "from facebook_business.adobjects.adaccount import AdAccount\n",
    "from imapclient import IMAPClient\n",
    "from sqlalchemy import create_engine\n",
    "\n",
    "from main.apps.etl.models import Report, GoogleSheetReport\n",
    "from main.apps.etl.schedule import schedule\n",
    "from main.celery import app as celery_app\n",
    "\n",
    "# https://docs.celeryproject.org/en/stable/userguide/periodic-tasks.html\n",
    "\n",
    "env = environ.Env()\n",
    "\n",
    "database_url = env.str(\n",
    "    var=\"DATABASE_URL\",\n",
    "    default=\"postgres://postgres:@postgres:5432/postgres\"\n",
    ")\n",
    "\n",
    "google_credentials = path.join(settings.CREDENTIALS_PATH, \"credentials.json\")\n",
    "\n",
    "engine = create_engine(database_url, echo=False)\n",
    "\n",
    "gc = gspread.service_account(filename=\"./credentials.json\")\n",
    "with open('./credentials.json') as file:\n",
    "    credentials = json.load(file)\n",
    "    ms_username, ms_password = credentials['ms_username'], credentials['ms_password']\n",
    "    facebook_app_id = credentials['facebook_app_id']\n",
    "    facebook_app_secret = credentials['facebook_app_secret']\n",
    "    facebook_access_token = credentials['facebook_access_token']"
   ]
  },
  {
   "cell_type": "code",
   "execution_count": null,
   "metadata": {},
   "outputs": [
    {
     "name": "stdout",
     "output_type": "stream",
     "text": [
      "Please visit this URL to authorize this application: https://accounts.google.com/o/oauth2/auth?response_type=code&client_id=545240508091-7ql0cflv3j9li19t17732pat04r9g4vg.apps.googleusercontent.com&redirect_uri=http%3A%2F%2Flocalhost%3A33211%2F&scope=https%3A%2F%2Fwww.googleapis.com%2Fauth%2Fdocuments&state=vFI2TIF9AOk1zdVcxRw9AZNK2JWCNz&access_type=offline\n"
     ]
    }
   ],
   "source": [
    "# from __future__ import print_function\n",
    "import pickle\n",
    "import os.path\n",
    "from googleapiclient.discovery import build\n",
    "from google_auth_oauthlib.flow import InstalledAppFlow\n",
    "from google.auth.transport.requests import Request\n",
    "\n",
    "# If modifying these scopes, delete the file token.pickle.\n",
    "SCOPES = ['https://www.googleapis.com/auth/drive']\n",
    "\n",
    "# The ID of a sample document.\n",
    "DOCUMENT_ID = '1RBOqA-2-YHp7HRekM2l6XwpLRrAeD_Rzkn3J5VavqtY'\n",
    "\n",
    "def main():\n",
    "    \"\"\"Shows basic usage of the Docs API.\n",
    "    Prints the title of a sample document.\n",
    "    \"\"\"\n",
    "    creds = None\n",
    "    # The file token.pickle stores the user's access and refresh tokens, and is\n",
    "    # created automatically when the authorization flow completes for the first\n",
    "    # time.\n",
    "    if os.path.exists('token.pickle'):\n",
    "        with open('token.pickle', 'rb') as token:\n",
    "            creds = pickle.load(token)\n",
    "    # If there are no (valid) credentials available, let the user log in.\n",
    "    if not creds or not creds.valid:\n",
    "        if creds and creds.expired and creds.refresh_token:\n",
    "            creds.refresh(Request())\n",
    "        else:\n",
    "            flow = InstalledAppFlow.from_client_secrets_file(\n",
    "                'ct.json', SCOPES)\n",
    "            creds = flow.run_local_server(port=0)\n",
    "        # Save the credentials for the next run\n",
    "        with open('token.pickle', 'wb') as token:\n",
    "            pickle.dump(creds, token)\n",
    "\n",
    "    service = build('docs', 'v1', credentials=creds)\n",
    "\n",
    "    # Retrieve the documents contents from the Docs service.\n",
    "    document = service.documents().get(documentId=DOCUMENT_ID).execute()\n",
    "\n",
    "    print('The title of the document is: {}'.format(document.get('title')))\n",
    "\n",
    "\n",
    "if __name__ == '__main__':\n",
    "    main()"
   ]
  },
  {
   "cell_type": "code",
   "execution_count": null,
   "metadata": {},
   "outputs": [],
   "source": []
  },
  {
   "cell_type": "code",
   "execution_count": null,
   "metadata": {},
   "outputs": [],
   "source": []
  }
 ],
 "metadata": {
  "kernelspec": {
   "display_name": "Django Shell-Plus",
   "language": "python",
   "name": "django_extensions"
  },
  "language_info": {
   "codemirror_mode": {
    "name": "ipython",
    "version": 3
   },
   "file_extension": ".py",
   "mimetype": "text/x-python",
   "name": "python",
   "nbconvert_exporter": "python",
   "pygments_lexer": "ipython3",
   "version": "3.8.6"
  }
 },
 "nbformat": 4,
 "nbformat_minor": 4
}
