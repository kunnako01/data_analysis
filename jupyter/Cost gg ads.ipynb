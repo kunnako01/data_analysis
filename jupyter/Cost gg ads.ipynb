{
 "cells": [
  {
   "cell_type": "code",
   "execution_count": 1,
   "metadata": {},
   "outputs": [],
   "source": [
    "import random as rd\n",
    "import numpy as np\n",
    "import seaborn as sns\n",
    "import matplotlib.pyplot as plt\n",
    "from sklearn.linear_model import LinearRegression\n",
    "from sklearn.datasets import load_iris\n",
    "from sklearn.linear_model import LogisticRegression\n",
    "from sklearn.metrics import mean_squared_error, mean_absolute_error #, r2_score\n",
    "\n",
    "import gspread\n",
    "from sqlalchemy import create_engine\n",
    "import re\n",
    "\n",
    "gc = gspread.service_account(filename=\"./credentials.json\")\n",
    "\n",
    "import environ\n",
    "env = environ.Env()\n",
    "database_url = env.str(\n",
    "    var=\"DATABASE_URL\", default=\"postgres://postgres:@postgres:5432/postgres\"\n",
    ")\n",
    "engine = create_engine(database_url, echo=False)"
   ]
  },
  {
   "cell_type": "code",
   "execution_count": 2,
   "metadata": {},
   "outputs": [],
   "source": [
    "import tensorflow as tf\n",
    "mnist = tf.keras.datasets.mnist\n",
    "\n",
    "(x_train, y_train),(x_test, y_test) = mnist.load_data()\n",
    "x_train, x_test = x_train / 255.0, x_test / 255.0\n",
    "\n",
    "model = tf.keras.models.Sequential([\n",
    "  tf.keras.layers.Flatten(input_shape=(28, 28)),\n",
    "  tf.keras.layers.Dense(128, activation='relu'),\n",
    "  tf.keras.layers.Dropout(0.2),\n",
    "  tf.keras.layers.Dense(10, activation='softmax')\n",
    "])\n",
    "\n",
    "# model.compile(optimizer='adam',\n",
    "#               loss='sparse_categorical_crossentropy',\n",
    "#               metrics=['accuracy'])\n",
    "\n",
    "# model.fit(x_train, y_train, epochs=5)\n",
    "# model.evaluate(x_test, y_test)"
   ]
  },
  {
   "cell_type": "code",
   "execution_count": 3,
   "metadata": {},
   "outputs": [
    {
     "name": "stdout",
     "output_type": "stream",
     "text": [
      "0.3956500969303114\n",
      "0.35776189065725783\n",
      "0.42425183539869415\n"
     ]
    }
   ],
   "source": [
    "import numpy as np\n",
    "from sklearn.model_selection import train_test_split\n",
    "from sklearn.linear_model import PoissonRegressor\n",
    "from sklearn.experimental import enable_hist_gradient_boosting  # noqa\n",
    "from sklearn.ensemble import HistGradientBoostingRegressor\n",
    "\n",
    "n_samples, n_features = 1000, 20\n",
    "rng = np.random.RandomState(0)\n",
    "X = rng.randn(n_samples, n_features)\n",
    "# positive integer target correlated with X[:, 5] with many zeros:\n",
    "y = rng.poisson(lam=np.exp(X[:, 5]) / 2)\n",
    "X_train, X_test, y_train, y_test = train_test_split(X, y, random_state=rng)\n",
    "glm = PoissonRegressor()\n",
    "gbdt = HistGradientBoostingRegressor(loss='poisson', learning_rate=.01)\n",
    "lg = LinearRegression().fit(X_train, y_train)\n",
    "glm.fit(X_train, y_train)\n",
    "gbdt.fit(X_train, y_train)\n",
    "print(lg.score(X_test, y_test))\n",
    "print(glm.score(X_test, y_test))\n",
    "print(gbdt.score(X_test, y_test))"
   ]
  },
  {
   "cell_type": "code",
   "execution_count": 4,
   "metadata": {},
   "outputs": [
    {
     "data": {
      "text/plain": [
       "array([[ 1.76405235,  0.40015721,  0.97873798, ..., -0.20515826,\n",
       "         0.3130677 , -0.85409574],\n",
       "       [-2.55298982,  0.6536186 ,  0.8644362 , ...,  1.20237985,\n",
       "        -0.38732682, -0.30230275],\n",
       "       [-1.04855297, -1.42001794, -1.70627019, ...,  0.3024719 ,\n",
       "        -0.63432209, -0.36274117],\n",
       "       ...,\n",
       "       [-0.85259255, -0.1797548 , -0.84311081, ...,  0.62572622,\n",
       "        -0.59228872, -0.73691532],\n",
       "       [-0.06113942, -0.49714704,  0.43210231, ..., -0.7888105 ,\n",
       "         0.20570363,  0.34291633],\n",
       "       [-0.75590132,  0.9190708 ,  1.53418368, ..., -0.05725925,\n",
       "        -1.05893126, -0.32652844]])"
      ]
     },
     "execution_count": 4,
     "metadata": {},
     "output_type": "execute_result"
    }
   ],
   "source": [
    "X"
   ]
  },
  {
   "cell_type": "code",
   "execution_count": null,
   "metadata": {},
   "outputs": [],
   "source": []
  },
  {
   "cell_type": "code",
   "execution_count": 5,
   "metadata": {},
   "outputs": [
    {
     "data": {
      "text/plain": [
       "0.5889777777777729"
      ]
     },
     "execution_count": 5,
     "metadata": {},
     "output_type": "execute_result"
    }
   ],
   "source": [
    "train_x = np.array([[50,10], [55,12], [60,20]])\n",
    "train_y = np.array([20,30,33])\n",
    "\n",
    "test_x = np.array([[55,12],[57, 10]])\n",
    "test_y = np.array([30,35])\n",
    "reg = LinearRegression().fit(train_x,train_y)\n",
    "reg.score(test_x, test_y)"
   ]
  },
  {
   "cell_type": "code",
   "execution_count": 6,
   "metadata": {},
   "outputs": [
    {
     "name": "stdout",
     "output_type": "stream",
     "text": [
      "<class 'numpy.ndarray'>\n"
     ]
    },
    {
     "data": {
      "text/plain": [
       "56.5"
      ]
     },
     "execution_count": 6,
     "metadata": {},
     "output_type": "execute_result"
    }
   ],
   "source": [
    "pre = reg.predict([[70, 21]])\n",
    "print(type(train_y))\n",
    "pre[0]"
   ]
  },
  {
   "cell_type": "code",
   "execution_count": 7,
   "metadata": {},
   "outputs": [
    {
     "data": {
      "text/plain": [
       "Text(0, 0.5, 'won')"
      ]
     },
     "execution_count": 7,
     "metadata": {},
     "output_type": "execute_result"
    },
    {
     "data": {
      "image/png": "[encoded data removed]",
      "text/plain": [
       "<Figure size 432x288 with 1 Axes>"
      ]
     },
     "metadata": {
      "needs_background": "light"
     },
     "output_type": "display_data"
    }
   ],
   "source": [
    "from mpl_toolkits.mplot3d import Axes3D\n",
    "import seaborn as sns\n",
    "X = [train_x[i][0] for i in range(len(train_x))]\n",
    "Z = [train_x[i][1] for i in range(len(train_x))]\n",
    "train_y\n",
    "# pp = Axes3D.plot_wireframe(X, train_y, Z)\n",
    "p1= plt.plot(X, train_y)\n",
    "plt.xlabel(\"Lead()\")\n",
    "plt.ylabel(\"won\")"
   ]
  },
  {
   "cell_type": "code",
   "execution_count": 8,
   "metadata": {},
   "outputs": [
    {
     "data": {
      "text/plain": [
       "Text(0, 0.5, 'won')"
      ]
     },
     "execution_count": 8,
     "metadata": {},
     "output_type": "execute_result"
    },
    {
     "data": {
      "image/png": "[encoded data removed]",
      "text/plain": [
       "<Figure size 432x288 with 1 Axes>"
      ]
     },
     "metadata": {
      "needs_background": "light"
     },
     "output_type": "display_data"
    }
   ],
   "source": [
    "p2= plt.plot(Z, train_y)\n",
    "plt.xlabel(\"Time(day)\")\n",
    "plt.ylabel(\"won\")"
   ]
  },
  {
   "cell_type": "code",
   "execution_count": 9,
   "metadata": {},
   "outputs": [],
   "source": [
    "data = pd.read_sql(\"etl_google_ads\", engine)"
   ]
  },
  {
   "cell_type": "code",
   "execution_count": 10,
   "metadata": {},
   "outputs": [
    {
     "data": {
      "text/html": [
       "<div>\n",
       "<style scoped>\n",
       "    .dataframe tbody tr th:only-of-type {\n",
       "        vertical-align: middle;\n",
       "    }\n",
       "\n",
       "    .dataframe tbody tr th {\n",
       "        vertical-align: top;\n",
       "    }\n",
       "\n",
       "    .dataframe thead th {\n",
       "        text-align: right;\n",
       "    }\n",
       "</style>\n",
       "<table border=\"1\" class=\"dataframe\">\n",
       "  <thead>\n",
       "    <tr style=\"text-align: right;\">\n",
       "      <th></th>\n",
       "      <th>Date</th>\n",
       "      <th>CampaignName</th>\n",
       "      <th>Id</th>\n",
       "      <th>AdGroupName</th>\n",
       "      <th>Criteria</th>\n",
       "      <th>Status</th>\n",
       "      <th>Clicks</th>\n",
       "      <th>Impressions</th>\n",
       "      <th>Cost</th>\n",
       "      <th>Ctr</th>\n",
       "      <th>Conversions</th>\n",
       "      <th>ConversionRate</th>\n",
       "      <th>CostPerConversion</th>\n",
       "    </tr>\n",
       "  </thead>\n",
       "  <tbody>\n",
       "    <tr>\n",
       "      <th>count</th>\n",
       "      <td>153797</td>\n",
       "      <td>153797</td>\n",
       "      <td>153797</td>\n",
       "      <td>153797</td>\n",
       "      <td>153797</td>\n",
       "      <td>153797</td>\n",
       "      <td>153797</td>\n",
       "      <td>153797</td>\n",
       "      <td>153797</td>\n",
       "      <td>153797</td>\n",
       "      <td>153797</td>\n",
       "      <td>153797</td>\n",
       "      <td>153797</td>\n",
       "    </tr>\n",
       "    <tr>\n",
       "      <th>unique</th>\n",
       "      <td>127</td>\n",
       "      <td>8</td>\n",
       "      <td>398</td>\n",
       "      <td>25</td>\n",
       "      <td>393</td>\n",
       "      <td>3</td>\n",
       "      <td>28</td>\n",
       "      <td>156</td>\n",
       "      <td>888</td>\n",
       "      <td>259</td>\n",
       "      <td>7</td>\n",
       "      <td>15</td>\n",
       "      <td>39</td>\n",
       "    </tr>\n",
       "    <tr>\n",
       "      <th>top</th>\n",
       "      <td>2020-11-09</td>\n",
       "      <td>e-Memo</td>\n",
       "      <td>296588230974</td>\n",
       "      <td>Product 250121</td>\n",
       "      <td>e document</td>\n",
       "      <td>enabled</td>\n",
       "      <td>0</td>\n",
       "      <td>0</td>\n",
       "      <td>0</td>\n",
       "      <td>0.00%</td>\n",
       "      <td>0</td>\n",
       "      <td>0.00%</td>\n",
       "      <td>0</td>\n",
       "    </tr>\n",
       "    <tr>\n",
       "      <th>freq</th>\n",
       "      <td>1211</td>\n",
       "      <td>130048</td>\n",
       "      <td>1270</td>\n",
       "      <td>29718</td>\n",
       "      <td>1397</td>\n",
       "      <td>143637</td>\n",
       "      <td>152750</td>\n",
       "      <td>150184</td>\n",
       "      <td>152747</td>\n",
       "      <td>152750</td>\n",
       "      <td>153759</td>\n",
       "      <td>153759</td>\n",
       "      <td>153759</td>\n",
       "    </tr>\n",
       "  </tbody>\n",
       "</table>\n",
       "</div>"
      ],
      "text/plain": [
       "              Date CampaignName            Id     AdGroupName    Criteria  \\\n",
       "count       153797       153797        153797          153797      153797   \n",
       "unique         127            8           398              25         393   \n",
       "top     2020-11-09       e-Memo  296588230974  Product 250121  e document   \n",
       "freq          1211       130048          1270           29718        1397   \n",
       "\n",
       "         Status  Clicks Impressions    Cost     Ctr Conversions  \\\n",
       "count    153797  153797      153797  153797  153797      153797   \n",
       "unique        3      28         156     888     259           7   \n",
       "top     enabled       0           0       0   0.00%           0   \n",
       "freq     143637  152750      150184  152747  152750      153759   \n",
       "\n",
       "       ConversionRate CostPerConversion  \n",
       "count          153797            153797  \n",
       "unique             15                39  \n",
       "top             0.00%                 0  \n",
       "freq           153759            153759  "
      ]
     },
     "execution_count": 10,
     "metadata": {},
     "output_type": "execute_result"
    }
   ],
   "source": [
    "data.describe()"
   ]
  },
  {
   "cell_type": "code",
   "execution_count": 11,
   "metadata": {},
   "outputs": [
    {
     "data": {
      "text/plain": [
       "(153797, 13)"
      ]
     },
     "execution_count": 11,
     "metadata": {},
     "output_type": "execute_result"
    }
   ],
   "source": [
    "data.shape"
   ]
  },
  {
   "cell_type": "code",
   "execution_count": 12,
   "metadata": {},
   "outputs": [
    {
     "data": {
      "text/plain": [
       "Date                 object\n",
       "CampaignName         object\n",
       "Id                   object\n",
       "AdGroupName          object\n",
       "Criteria             object\n",
       "Status               object\n",
       "Clicks               object\n",
       "Impressions          object\n",
       "Cost                 object\n",
       "Ctr                  object\n",
       "Conversions          object\n",
       "ConversionRate       object\n",
       "CostPerConversion    object\n",
       "dtype: object"
      ]
     },
     "execution_count": 12,
     "metadata": {},
     "output_type": "execute_result"
    }
   ],
   "source": [
    "data.dtypes"
   ]
  },
  {
   "cell_type": "code",
   "execution_count": 13,
   "metadata": {},
   "outputs": [
    {
     "data": {
      "text/plain": [
       "Date                 0\n",
       "CampaignName         0\n",
       "Id                   0\n",
       "AdGroupName          0\n",
       "Criteria             0\n",
       "Status               0\n",
       "Clicks               0\n",
       "Impressions          0\n",
       "Cost                 0\n",
       "Ctr                  0\n",
       "Conversions          0\n",
       "ConversionRate       0\n",
       "CostPerConversion    0\n",
       "dtype: int64"
      ]
     },
     "execution_count": 13,
     "metadata": {},
     "output_type": "execute_result"
    }
   ],
   "source": [
    "data.isnull().sum()"
   ]
  },
  {
   "cell_type": "code",
   "execution_count": 14,
   "metadata": {},
   "outputs": [
    {
     "data": {
      "text/plain": [
       "Date                      0\n",
       "CampaignName              0\n",
       "Id                        0\n",
       "AdGroupName               0\n",
       "Criteria                  0\n",
       "Status                    0\n",
       "Clicks               152750\n",
       "Impressions          150184\n",
       "Cost                 152747\n",
       "Ctr                       0\n",
       "Conversions               0\n",
       "ConversionRate            0\n",
       "CostPerConversion         0\n",
       "dtype: int64"
      ]
     },
     "execution_count": 14,
     "metadata": {},
     "output_type": "execute_result"
    }
   ],
   "source": [
    "data['Cost'] = data['Cost'].astype(float)\n",
    "data['Clicks'] = data['Clicks'].astype(float)\n",
    "data['Impressions'] = data['Impressions'].astype(float)\n",
    "data.eq(0).sum()"
   ]
  },
  {
   "cell_type": "code",
   "execution_count": 28,
   "metadata": {},
   "outputs": [
    {
     "data": {
      "text/plain": [
       "Date                 0\n",
       "CampaignName         0\n",
       "Id                   0\n",
       "AdGroupName          0\n",
       "Criteria             0\n",
       "Status               0\n",
       "Clicks               0\n",
       "Impressions          0\n",
       "Cost                 0\n",
       "Ctr                  0\n",
       "Conversions          0\n",
       "ConversionRate       0\n",
       "CostPerConversion    0\n",
       "dtype: int64"
      ]
     },
     "execution_count": 28,
     "metadata": {},
     "output_type": "execute_result"
    }
   ],
   "source": [
    "data = data.query('Cost != 0 and Cost < 200 and Impressions <= 250 and Clicks > 0')\n",
    "data.eq(0).sum()"
   ]
  },
  {
   "cell_type": "code",
   "execution_count": 29,
   "metadata": {},
   "outputs": [
    {
     "data": {
      "text/plain": [
       "(1023, 13)"
      ]
     },
     "execution_count": 29,
     "metadata": {},
     "output_type": "execute_result"
    }
   ],
   "source": [
    "data.shape"
   ]
  },
  {
   "cell_type": "code",
   "execution_count": 30,
   "metadata": {},
   "outputs": [
    {
     "data": {
      "image/png": "[encoded data removed]",
      "text/plain": [
       "<Figure size 504x252 with 2 Axes>"
      ]
     },
     "metadata": {
      "needs_background": "light"
     },
     "output_type": "display_data"
    }
   ],
   "source": [
    "sns.pairplot(data, x_vars=['Clicks','Impressions'], y_vars='Cost', height=3.5,kind='reg')\n",
    "\n",
    "plt.show()"
   ]
  },
  {
   "cell_type": "code",
   "execution_count": 31,
   "metadata": {},
   "outputs": [
    {
     "data": {
      "image/png": "[encoded data removed]",
      "text/plain": [
       "<Figure size 648x648 with 12 Axes>"
      ]
     },
     "metadata": {
      "needs_background": "light"
     },
     "output_type": "display_data"
    }
   ],
   "source": [
    "g = sns.pairplot(data)\n",
    "g.fig.set_size_inches(9, 9)"
   ]
  },
  {
   "cell_type": "code",
   "execution_count": 32,
   "metadata": {},
   "outputs": [],
   "source": [
    "data_x = data[['Clicks', 'Impressions']]\n",
    "data_y = data.Cost"
   ]
  },
  {
   "cell_type": "code",
   "execution_count": 33,
   "metadata": {},
   "outputs": [],
   "source": [
    "X_train, X_test, y_train, y_test = train_test_split(data_x, data_y)"
   ]
  },
  {
   "cell_type": "code",
   "execution_count": 56,
   "metadata": {},
   "outputs": [
    {
     "data": {
      "text/plain": [
       "0.728455457489674"
      ]
     },
     "execution_count": 56,
     "metadata": {},
     "output_type": "execute_result"
    }
   ],
   "source": [
    "lr = LinearRegression().fit(X_train, y_train)\n",
    "sc = lr.score(X_test, y_test)\n",
    "sc"
   ]
  },
  {
   "cell_type": "code",
   "execution_count": 59,
   "metadata": {},
   "outputs": [
    {
     "data": {
      "text/plain": [
       "(array([7.75445236, 0.0357248 ]), 0.33203694201147016)"
      ]
     },
     "execution_count": 59,
     "metadata": {},
     "output_type": "execute_result"
    }
   ],
   "source": [
    "lr.coef_ , lr.intercept_  # m and b"
   ]
  },
  {
   "cell_type": "code",
   "execution_count": 36,
   "metadata": {},
   "outputs": [
    {
     "data": {
      "text/plain": [
       "147.32163461703416"
      ]
     },
     "execution_count": 36,
     "metadata": {},
     "output_type": "execute_result"
    }
   ],
   "source": [
    "pre_data = lr.predict(X_test)\n",
    "mean_squared_error(y_test, pre_data)"
   ]
  },
  {
   "cell_type": "code",
   "execution_count": 55,
   "metadata": {},
   "outputs": [
    {
     "data": {
      "text/plain": [
       "7.122579700114655"
      ]
     },
     "execution_count": 55,
     "metadata": {},
     "output_type": "execute_result"
    }
   ],
   "source": [
    "mean_absolute_error(y_test, pre_data)"
   ]
  },
  {
   "cell_type": "code",
   "execution_count": 64,
   "metadata": {},
   "outputs": [
    {
     "data": {
      "text/html": [
       "<div>\n",
       "<style scoped>\n",
       "    .dataframe tbody tr th:only-of-type {\n",
       "        vertical-align: middle;\n",
       "    }\n",
       "\n",
       "    .dataframe tbody tr th {\n",
       "        vertical-align: top;\n",
       "    }\n",
       "\n",
       "    .dataframe thead th {\n",
       "        text-align: right;\n",
       "    }\n",
       "</style>\n",
       "<table border=\"1\" class=\"dataframe\">\n",
       "  <thead>\n",
       "    <tr style=\"text-align: right;\">\n",
       "      <th></th>\n",
       "      <th>Clicks</th>\n",
       "      <th>Impressions</th>\n",
       "      <th>Cost true</th>\n",
       "      <th>Cost predict</th>\n",
       "    </tr>\n",
       "  </thead>\n",
       "  <tbody>\n",
       "    <tr>\n",
       "      <th>101</th>\n",
       "      <td>14.0</td>\n",
       "      <td>114.0</td>\n",
       "      <td>178.95</td>\n",
       "      <td>112.966997</td>\n",
       "    </tr>\n",
       "    <tr>\n",
       "      <th>219</th>\n",
       "      <td>13.0</td>\n",
       "      <td>54.0</td>\n",
       "      <td>87.43</td>\n",
       "      <td>103.069057</td>\n",
       "    </tr>\n",
       "    <tr>\n",
       "      <th>14</th>\n",
       "      <td>12.0</td>\n",
       "      <td>82.0</td>\n",
       "      <td>84.56</td>\n",
       "      <td>96.314899</td>\n",
       "    </tr>\n",
       "    <tr>\n",
       "      <th>234</th>\n",
       "      <td>11.0</td>\n",
       "      <td>167.0</td>\n",
       "      <td>72.58</td>\n",
       "      <td>91.597054</td>\n",
       "    </tr>\n",
       "    <tr>\n",
       "      <th>59</th>\n",
       "      <td>11.0</td>\n",
       "      <td>84.0</td>\n",
       "      <td>79.67</td>\n",
       "      <td>88.631896</td>\n",
       "    </tr>\n",
       "    <tr>\n",
       "      <th>...</th>\n",
       "      <td>...</td>\n",
       "      <td>...</td>\n",
       "      <td>...</td>\n",
       "      <td>...</td>\n",
       "    </tr>\n",
       "    <tr>\n",
       "      <th>206</th>\n",
       "      <td>1.0</td>\n",
       "      <td>1.0</td>\n",
       "      <td>8.76</td>\n",
       "      <td>8.122214</td>\n",
       "    </tr>\n",
       "    <tr>\n",
       "      <th>233</th>\n",
       "      <td>1.0</td>\n",
       "      <td>1.0</td>\n",
       "      <td>10.87</td>\n",
       "      <td>8.122214</td>\n",
       "    </tr>\n",
       "    <tr>\n",
       "      <th>238</th>\n",
       "      <td>1.0</td>\n",
       "      <td>1.0</td>\n",
       "      <td>5.30</td>\n",
       "      <td>8.122214</td>\n",
       "    </tr>\n",
       "    <tr>\n",
       "      <th>242</th>\n",
       "      <td>1.0</td>\n",
       "      <td>1.0</td>\n",
       "      <td>3.29</td>\n",
       "      <td>8.122214</td>\n",
       "    </tr>\n",
       "    <tr>\n",
       "      <th>252</th>\n",
       "      <td>1.0</td>\n",
       "      <td>1.0</td>\n",
       "      <td>10.94</td>\n",
       "      <td>8.122214</td>\n",
       "    </tr>\n",
       "  </tbody>\n",
       "</table>\n",
       "<p>256 rows × 4 columns</p>\n",
       "</div>"
      ],
      "text/plain": [
       "     Clicks  Impressions  Cost true  Cost predict\n",
       "101    14.0        114.0     178.95    112.966997\n",
       "219    13.0         54.0      87.43    103.069057\n",
       "14     12.0         82.0      84.56     96.314899\n",
       "234    11.0        167.0      72.58     91.597054\n",
       "59     11.0         84.0      79.67     88.631896\n",
       "..      ...          ...        ...           ...\n",
       "206     1.0          1.0       8.76      8.122214\n",
       "233     1.0          1.0      10.87      8.122214\n",
       "238     1.0          1.0       5.30      8.122214\n",
       "242     1.0          1.0       3.29      8.122214\n",
       "252     1.0          1.0      10.94      8.122214\n",
       "\n",
       "[256 rows x 4 columns]"
      ]
     },
     "execution_count": 64,
     "metadata": {},
     "output_type": "execute_result"
    }
   ],
   "source": [
    "d_pre = {'Clicks': X_test.Clicks.values, 'Impressions': X_test.Impressions.values, 'Cost true': y_test.values, 'Cost predict': pre_data}\n",
    "df_pre = pd.DataFrame(d_pre)\n",
    "df_pre.sort_values(['Clicks', 'Impressions'], ascending=False)"
   ]
  },
  {
   "cell_type": "code",
   "execution_count": 58,
   "metadata": {},
   "outputs": [
    {
     "data": {
      "image/png": "[encoded data removed]",
      "text/plain": [
       "<Figure size 648x648 with 20 Axes>"
      ]
     },
     "metadata": {
      "needs_background": "light"
     },
     "output_type": "display_data"
    }
   ],
   "source": [
    "p = sns.pairplot(df_pre)\n",
    "p.fig.set_size_inches(9, 9)"
   ]
  },
  {
   "cell_type": "code",
   "execution_count": 66,
   "metadata": {},
   "outputs": [
    {
     "data": {
      "text/html": [
       "<div>\n",
       "<style scoped>\n",
       "    .dataframe tbody tr th:only-of-type {\n",
       "        vertical-align: middle;\n",
       "    }\n",
       "\n",
       "    .dataframe tbody tr th {\n",
       "        vertical-align: top;\n",
       "    }\n",
       "\n",
       "    .dataframe thead th {\n",
       "        text-align: right;\n",
       "    }\n",
       "</style>\n",
       "<table border=\"1\" class=\"dataframe\">\n",
       "  <thead>\n",
       "    <tr style=\"text-align: right;\">\n",
       "      <th></th>\n",
       "      <th>ad_id</th>\n",
       "      <th>ad_name</th>\n",
       "      <th>adset_name</th>\n",
       "      <th>campaign_id</th>\n",
       "      <th>campaign_name</th>\n",
       "      <th>clicks</th>\n",
       "      <th>cpc</th>\n",
       "      <th>cpm</th>\n",
       "      <th>cpp</th>\n",
       "      <th>ctr</th>\n",
       "      <th>...</th>\n",
       "      <th>spend</th>\n",
       "      <th>unique_clicks</th>\n",
       "      <th>campaign_objective</th>\n",
       "      <th>status</th>\n",
       "      <th>type</th>\n",
       "      <th>landing_page_view</th>\n",
       "      <th>product</th>\n",
       "      <th>objective</th>\n",
       "      <th>Campaign name</th>\n",
       "      <th>artwork</th>\n",
       "    </tr>\n",
       "  </thead>\n",
       "  <tbody>\n",
       "    <tr>\n",
       "      <th>0</th>\n",
       "      <td>23845924248770634</td>\n",
       "      <td>Post: \"เคยเจอปัญหาต้องเข้าออฟฟิศ เพื่อเซ็นเอกส...</td>\n",
       "      <td>Post: \"เคยเจอปัญหาต้องเข้าออฟฟิศ เพื่อเซ็นเอกส...</td>\n",
       "      <td>23845924248710634</td>\n",
       "      <td>PRO:EMEM_OBJ:ENGA_CN:NORM_AW:MULT_CONT:BOARD</td>\n",
       "      <td>65</td>\n",
       "      <td>1.588462</td>\n",
       "      <td>176.797945</td>\n",
       "      <td>202.848723</td>\n",
       "      <td>11.130137</td>\n",
       "      <td>...</td>\n",
       "      <td>103.25</td>\n",
       "      <td>65</td>\n",
       "      <td>POST_ENGAGEMENT</td>\n",
       "      <td>PAUSED</td>\n",
       "      <td>daily</td>\n",
       "      <td>None</td>\n",
       "      <td>EMEM</td>\n",
       "      <td>ENGA</td>\n",
       "      <td>NORM</td>\n",
       "      <td>MULT</td>\n",
       "    </tr>\n",
       "    <tr>\n",
       "      <th>1</th>\n",
       "      <td>23845924248770634</td>\n",
       "      <td>Post: \"เคยเจอปัญหาต้องเข้าออฟฟิศ เพื่อเซ็นเอกส...</td>\n",
       "      <td>Post: \"เคยเจอปัญหาต้องเข้าออฟฟิศ เพื่อเซ็นเอกส...</td>\n",
       "      <td>23845924248710634</td>\n",
       "      <td>PRO:EMEM_OBJ:ENGA_CN:NORM_AW:MULT_CONT:BOARD</td>\n",
       "      <td>74</td>\n",
       "      <td>2.211486</td>\n",
       "      <td>168.01848</td>\n",
       "      <td>233.452211</td>\n",
       "      <td>7.597536</td>\n",
       "      <td>...</td>\n",
       "      <td>163.65</td>\n",
       "      <td>72</td>\n",
       "      <td>POST_ENGAGEMENT</td>\n",
       "      <td>PAUSED</td>\n",
       "      <td>daily</td>\n",
       "      <td>None</td>\n",
       "      <td>EMEM</td>\n",
       "      <td>ENGA</td>\n",
       "      <td>NORM</td>\n",
       "      <td>MULT</td>\n",
       "    </tr>\n",
       "    <tr>\n",
       "      <th>2</th>\n",
       "      <td>23845924248770634</td>\n",
       "      <td>Post: \"เคยเจอปัญหาต้องเข้าออฟฟิศ เพื่อเซ็นเอกส...</td>\n",
       "      <td>Post: \"เคยเจอปัญหาต้องเข้าออฟฟิศ เพื่อเซ็นเอกส...</td>\n",
       "      <td>23845924248710634</td>\n",
       "      <td>PRO:EMEM_OBJ:ENGA_CN:NORM_AW:MULT_CONT:BOARD</td>\n",
       "      <td>79</td>\n",
       "      <td>2.166329</td>\n",
       "      <td>135.610143</td>\n",
       "      <td>196.93901</td>\n",
       "      <td>6.259905</td>\n",
       "      <td>...</td>\n",
       "      <td>171.14</td>\n",
       "      <td>78</td>\n",
       "      <td>POST_ENGAGEMENT</td>\n",
       "      <td>PAUSED</td>\n",
       "      <td>daily</td>\n",
       "      <td>None</td>\n",
       "      <td>EMEM</td>\n",
       "      <td>ENGA</td>\n",
       "      <td>NORM</td>\n",
       "      <td>MULT</td>\n",
       "    </tr>\n",
       "    <tr>\n",
       "      <th>3</th>\n",
       "      <td>23845924248770634</td>\n",
       "      <td>Post: \"เคยเจอปัญหาต้องเข้าออฟฟิศ เพื่อเซ็นเอกส...</td>\n",
       "      <td>Post: \"เคยเจอปัญหาต้องเข้าออฟฟิศ เพื่อเซ็นเอกส...</td>\n",
       "      <td>23845924248710634</td>\n",
       "      <td>PRO:EMEM_OBJ:ENGA_CN:NORM_AW:MULT_CONT:BOARD</td>\n",
       "      <td>21</td>\n",
       "      <td>2.950476</td>\n",
       "      <td>152.610837</td>\n",
       "      <td>179.594203</td>\n",
       "      <td>5.172414</td>\n",
       "      <td>...</td>\n",
       "      <td>61.96</td>\n",
       "      <td>21</td>\n",
       "      <td>POST_ENGAGEMENT</td>\n",
       "      <td>PAUSED</td>\n",
       "      <td>daily</td>\n",
       "      <td>None</td>\n",
       "      <td>EMEM</td>\n",
       "      <td>ENGA</td>\n",
       "      <td>NORM</td>\n",
       "      <td>MULT</td>\n",
       "    </tr>\n",
       "    <tr>\n",
       "      <th>4</th>\n",
       "      <td>23845970223610634</td>\n",
       "      <td>Video-071020</td>\n",
       "      <td>Biz-071020</td>\n",
       "      <td>23845806592580634</td>\n",
       "      <td>PRO:EMEM_OBJ:LEAD_CN:NORM_AW:SING_CONT:MIX</td>\n",
       "      <td>15</td>\n",
       "      <td>4.051333</td>\n",
       "      <td>394.61039</td>\n",
       "      <td>407.852349</td>\n",
       "      <td>9.74026</td>\n",
       "      <td>...</td>\n",
       "      <td>60.77</td>\n",
       "      <td>14</td>\n",
       "      <td>LEAD_GENERATION</td>\n",
       "      <td>PAUSED</td>\n",
       "      <td>daily</td>\n",
       "      <td>None</td>\n",
       "      <td>EMEM</td>\n",
       "      <td>LEAD</td>\n",
       "      <td>NORM</td>\n",
       "      <td>SING</td>\n",
       "    </tr>\n",
       "    <tr>\n",
       "      <th>...</th>\n",
       "      <td>...</td>\n",
       "      <td>...</td>\n",
       "      <td>...</td>\n",
       "      <td>...</td>\n",
       "      <td>...</td>\n",
       "      <td>...</td>\n",
       "      <td>...</td>\n",
       "      <td>...</td>\n",
       "      <td>...</td>\n",
       "      <td>...</td>\n",
       "      <td>...</td>\n",
       "      <td>...</td>\n",
       "      <td>...</td>\n",
       "      <td>...</td>\n",
       "      <td>...</td>\n",
       "      <td>...</td>\n",
       "      <td>...</td>\n",
       "      <td>...</td>\n",
       "      <td>...</td>\n",
       "      <td>...</td>\n",
       "      <td>...</td>\n",
       "    </tr>\n",
       "    <tr>\n",
       "      <th>430</th>\n",
       "      <td>23847040714150634</td>\n",
       "      <td>AW:SING_CONT:4STEPS_</td>\n",
       "      <td>BISS-JOBSTITLE-TECH-220221</td>\n",
       "      <td>23846644567000634</td>\n",
       "      <td>PRO:EMEM_OBJ:CONV_CN:NORM_AW:SING_CONT:4STEPS</td>\n",
       "      <td>187</td>\n",
       "      <td>2.586952</td>\n",
       "      <td>54.588129</td>\n",
       "      <td>59.139364</td>\n",
       "      <td>2.110133</td>\n",
       "      <td>...</td>\n",
       "      <td>483.76</td>\n",
       "      <td>168</td>\n",
       "      <td>CONVERSIONS</td>\n",
       "      <td>ACTIVE</td>\n",
       "      <td>daily</td>\n",
       "      <td>74</td>\n",
       "      <td>EMEM</td>\n",
       "      <td>CONV</td>\n",
       "      <td>NORM</td>\n",
       "      <td>SING</td>\n",
       "    </tr>\n",
       "    <tr>\n",
       "      <th>431</th>\n",
       "      <td>23847084872460634</td>\n",
       "      <td>AW:SING_CONT:4STEPS_</td>\n",
       "      <td>LOOKALIKE-WEBSITE-VISITORS-010321</td>\n",
       "      <td>23846644567000634</td>\n",
       "      <td>PRO:EMEM_OBJ:CONV_CN:NORM_AW:SING_CONT:4STEPS</td>\n",
       "      <td>46</td>\n",
       "      <td>7.050217</td>\n",
       "      <td>110.197078</td>\n",
       "      <td>120.516537</td>\n",
       "      <td>1.563031</td>\n",
       "      <td>...</td>\n",
       "      <td>324.31</td>\n",
       "      <td>38</td>\n",
       "      <td>CONVERSIONS</td>\n",
       "      <td>ACTIVE</td>\n",
       "      <td>daily</td>\n",
       "      <td>19</td>\n",
       "      <td>EMEM</td>\n",
       "      <td>CONV</td>\n",
       "      <td>NORM</td>\n",
       "      <td>SING</td>\n",
       "    </tr>\n",
       "    <tr>\n",
       "      <th>432</th>\n",
       "      <td>23847084922800634</td>\n",
       "      <td>AW:VIDEO_CONT:FEATURES</td>\n",
       "      <td>BISS&amp;IT-TECH-010321</td>\n",
       "      <td>23847084922780634</td>\n",
       "      <td>PRO:EMEM_OBJ:VIDEO_CN:NORM_AW:VIDEO_CONT:FEATURES</td>\n",
       "      <td>13</td>\n",
       "      <td>22.933846</td>\n",
       "      <td>74.497751</td>\n",
       "      <td>74.853126</td>\n",
       "      <td>0.324838</td>\n",
       "      <td>...</td>\n",
       "      <td>298.14</td>\n",
       "      <td>13</td>\n",
       "      <td>VIDEO_VIEWS</td>\n",
       "      <td>ACTIVE</td>\n",
       "      <td>daily</td>\n",
       "      <td>7</td>\n",
       "      <td>EMEM</td>\n",
       "      <td>VIDEO</td>\n",
       "      <td>NORM</td>\n",
       "      <td>VIDEO</td>\n",
       "    </tr>\n",
       "    <tr>\n",
       "      <th>433</th>\n",
       "      <td>23847087335260634</td>\n",
       "      <td>AW:SING_CONT:BOSS-VS-STAFF</td>\n",
       "      <td>BISS-JOBSTITLE-TECH-010321</td>\n",
       "      <td>23847087335160634</td>\n",
       "      <td>PRO:EMEM_OBJ:ENGA_CN:EVENT-RESPONSE_AW:SING_CO...</td>\n",
       "      <td>118</td>\n",
       "      <td>0.840593</td>\n",
       "      <td>90.501825</td>\n",
       "      <td>97.627953</td>\n",
       "      <td>10.766423</td>\n",
       "      <td>...</td>\n",
       "      <td>99.19</td>\n",
       "      <td>110</td>\n",
       "      <td>POST_ENGAGEMENT</td>\n",
       "      <td>ACTIVE</td>\n",
       "      <td>daily</td>\n",
       "      <td>1</td>\n",
       "      <td>EMEM</td>\n",
       "      <td>ENGA</td>\n",
       "      <td>EVENT-RESPONSE</td>\n",
       "      <td>SING</td>\n",
       "    </tr>\n",
       "    <tr>\n",
       "      <th>434</th>\n",
       "      <td>23847103425270634</td>\n",
       "      <td>AW:SING_CONT:WHYCDM</td>\n",
       "      <td>IT-TECH-030321</td>\n",
       "      <td>23847103425180634</td>\n",
       "      <td>PRO:EMEM_OBJ:CONV_CN:NORM_AW:SING_CONT:WHYCDM</td>\n",
       "      <td>38</td>\n",
       "      <td>3.819211</td>\n",
       "      <td>88.11779</td>\n",
       "      <td>93.33119</td>\n",
       "      <td>2.307225</td>\n",
       "      <td>...</td>\n",
       "      <td>145.13</td>\n",
       "      <td>29</td>\n",
       "      <td>CONVERSIONS</td>\n",
       "      <td>ACTIVE</td>\n",
       "      <td>daily</td>\n",
       "      <td>9</td>\n",
       "      <td>EMEM</td>\n",
       "      <td>CONV</td>\n",
       "      <td>NORM</td>\n",
       "      <td>SING</td>\n",
       "    </tr>\n",
       "  </tbody>\n",
       "</table>\n",
       "<p>435 rows × 26 columns</p>\n",
       "</div>"
      ],
      "text/plain": [
       "                 ad_id                                            ad_name  \\\n",
       "0    23845924248770634  Post: \"เคยเจอปัญหาต้องเข้าออฟฟิศ เพื่อเซ็นเอกส...   \n",
       "1    23845924248770634  Post: \"เคยเจอปัญหาต้องเข้าออฟฟิศ เพื่อเซ็นเอกส...   \n",
       "2    23845924248770634  Post: \"เคยเจอปัญหาต้องเข้าออฟฟิศ เพื่อเซ็นเอกส...   \n",
       "3    23845924248770634  Post: \"เคยเจอปัญหาต้องเข้าออฟฟิศ เพื่อเซ็นเอกส...   \n",
       "4    23845970223610634                                       Video-071020   \n",
       "..                 ...                                                ...   \n",
       "430  23847040714150634                               AW:SING_CONT:4STEPS_   \n",
       "431  23847084872460634                               AW:SING_CONT:4STEPS_   \n",
       "432  23847084922800634                             AW:VIDEO_CONT:FEATURES   \n",
       "433  23847087335260634                         AW:SING_CONT:BOSS-VS-STAFF   \n",
       "434  23847103425270634                                AW:SING_CONT:WHYCDM   \n",
       "\n",
       "                                            adset_name        campaign_id  \\\n",
       "0    Post: \"เคยเจอปัญหาต้องเข้าออฟฟิศ เพื่อเซ็นเอกส...  23845924248710634   \n",
       "1    Post: \"เคยเจอปัญหาต้องเข้าออฟฟิศ เพื่อเซ็นเอกส...  23845924248710634   \n",
       "2    Post: \"เคยเจอปัญหาต้องเข้าออฟฟิศ เพื่อเซ็นเอกส...  23845924248710634   \n",
       "3    Post: \"เคยเจอปัญหาต้องเข้าออฟฟิศ เพื่อเซ็นเอกส...  23845924248710634   \n",
       "4                                           Biz-071020  23845806592580634   \n",
       "..                                                 ...                ...   \n",
       "430                         BISS-JOBSTITLE-TECH-220221  23846644567000634   \n",
       "431                  LOOKALIKE-WEBSITE-VISITORS-010321  23846644567000634   \n",
       "432                                BISS&IT-TECH-010321  23847084922780634   \n",
       "433                         BISS-JOBSTITLE-TECH-010321  23847087335160634   \n",
       "434                                     IT-TECH-030321  23847103425180634   \n",
       "\n",
       "                                         campaign_name clicks        cpc  \\\n",
       "0         PRO:EMEM_OBJ:ENGA_CN:NORM_AW:MULT_CONT:BOARD     65   1.588462   \n",
       "1         PRO:EMEM_OBJ:ENGA_CN:NORM_AW:MULT_CONT:BOARD     74   2.211486   \n",
       "2         PRO:EMEM_OBJ:ENGA_CN:NORM_AW:MULT_CONT:BOARD     79   2.166329   \n",
       "3         PRO:EMEM_OBJ:ENGA_CN:NORM_AW:MULT_CONT:BOARD     21   2.950476   \n",
       "4           PRO:EMEM_OBJ:LEAD_CN:NORM_AW:SING_CONT:MIX     15   4.051333   \n",
       "..                                                 ...    ...        ...   \n",
       "430      PRO:EMEM_OBJ:CONV_CN:NORM_AW:SING_CONT:4STEPS    187   2.586952   \n",
       "431      PRO:EMEM_OBJ:CONV_CN:NORM_AW:SING_CONT:4STEPS     46   7.050217   \n",
       "432  PRO:EMEM_OBJ:VIDEO_CN:NORM_AW:VIDEO_CONT:FEATURES     13  22.933846   \n",
       "433  PRO:EMEM_OBJ:ENGA_CN:EVENT-RESPONSE_AW:SING_CO...    118   0.840593   \n",
       "434      PRO:EMEM_OBJ:CONV_CN:NORM_AW:SING_CONT:WHYCDM     38   3.819211   \n",
       "\n",
       "            cpm         cpp        ctr  ...   spend unique_clicks  \\\n",
       "0    176.797945  202.848723  11.130137  ...  103.25            65   \n",
       "1     168.01848  233.452211   7.597536  ...  163.65            72   \n",
       "2    135.610143   196.93901   6.259905  ...  171.14            78   \n",
       "3    152.610837  179.594203   5.172414  ...   61.96            21   \n",
       "4     394.61039  407.852349    9.74026  ...   60.77            14   \n",
       "..          ...         ...        ...  ...     ...           ...   \n",
       "430   54.588129   59.139364   2.110133  ...  483.76           168   \n",
       "431  110.197078  120.516537   1.563031  ...  324.31            38   \n",
       "432   74.497751   74.853126   0.324838  ...  298.14            13   \n",
       "433   90.501825   97.627953  10.766423  ...   99.19           110   \n",
       "434    88.11779    93.33119   2.307225  ...  145.13            29   \n",
       "\n",
       "    campaign_objective  status   type landing_page_view product objective  \\\n",
       "0      POST_ENGAGEMENT  PAUSED  daily              None    EMEM      ENGA   \n",
       "1      POST_ENGAGEMENT  PAUSED  daily              None    EMEM      ENGA   \n",
       "2      POST_ENGAGEMENT  PAUSED  daily              None    EMEM      ENGA   \n",
       "3      POST_ENGAGEMENT  PAUSED  daily              None    EMEM      ENGA   \n",
       "4      LEAD_GENERATION  PAUSED  daily              None    EMEM      LEAD   \n",
       "..                 ...     ...    ...               ...     ...       ...   \n",
       "430        CONVERSIONS  ACTIVE  daily                74    EMEM      CONV   \n",
       "431        CONVERSIONS  ACTIVE  daily                19    EMEM      CONV   \n",
       "432        VIDEO_VIEWS  ACTIVE  daily                 7    EMEM     VIDEO   \n",
       "433    POST_ENGAGEMENT  ACTIVE  daily                 1    EMEM      ENGA   \n",
       "434        CONVERSIONS  ACTIVE  daily                 9    EMEM      CONV   \n",
       "\n",
       "      Campaign name artwork  \n",
       "0              NORM    MULT  \n",
       "1              NORM    MULT  \n",
       "2              NORM    MULT  \n",
       "3              NORM    MULT  \n",
       "4              NORM    SING  \n",
       "..              ...     ...  \n",
       "430            NORM    SING  \n",
       "431            NORM    SING  \n",
       "432            NORM   VIDEO  \n",
       "433  EVENT-RESPONSE    SING  \n",
       "434            NORM    SING  \n",
       "\n",
       "[435 rows x 26 columns]"
      ]
     },
     "execution_count": 66,
     "metadata": {},
     "output_type": "execute_result"
    }
   ],
   "source": [
    "spent_fb = pd.read_sql(\"etl_marketing_facebook\", engine)\n",
    "spent_fb"
   ]
  },
  {
   "cell_type": "code",
   "execution_count": 67,
   "metadata": {},
   "outputs": [],
   "source": [
    "spent_fb = spent_fb[spent_fb['type'] == 'daily']\n",
    "feature_fb = ['clicks', 'impressions', 'spend', 'date_start']\n",
    "spent_fb = spent_fb[feature_fb]"
   ]
  },
  {
   "cell_type": "code",
   "execution_count": 80,
   "metadata": {},
   "outputs": [
    {
     "data": {
      "text/html": [
       "<div>\n",
       "<style scoped>\n",
       "    .dataframe tbody tr th:only-of-type {\n",
       "        vertical-align: middle;\n",
       "    }\n",
       "\n",
       "    .dataframe tbody tr th {\n",
       "        vertical-align: top;\n",
       "    }\n",
       "\n",
       "    .dataframe thead th {\n",
       "        text-align: right;\n",
       "    }\n",
       "</style>\n",
       "<table border=\"1\" class=\"dataframe\">\n",
       "  <thead>\n",
       "    <tr style=\"text-align: right;\">\n",
       "      <th></th>\n",
       "      <th>clicks</th>\n",
       "      <th>impressions</th>\n",
       "      <th>spend</th>\n",
       "      <th>date_start</th>\n",
       "      <th>date</th>\n",
       "    </tr>\n",
       "  </thead>\n",
       "  <tbody>\n",
       "    <tr>\n",
       "      <th>0</th>\n",
       "      <td>65</td>\n",
       "      <td>584</td>\n",
       "      <td>103.25</td>\n",
       "      <td>2020-10-02</td>\n",
       "      <td>2020-10-02</td>\n",
       "    </tr>\n",
       "    <tr>\n",
       "      <th>1</th>\n",
       "      <td>74</td>\n",
       "      <td>974</td>\n",
       "      <td>163.65</td>\n",
       "      <td>2020-10-03</td>\n",
       "      <td>2020-10-03</td>\n",
       "    </tr>\n",
       "    <tr>\n",
       "      <th>2</th>\n",
       "      <td>79</td>\n",
       "      <td>1262</td>\n",
       "      <td>171.14</td>\n",
       "      <td>2020-10-04</td>\n",
       "      <td>2020-10-04</td>\n",
       "    </tr>\n",
       "    <tr>\n",
       "      <th>3</th>\n",
       "      <td>21</td>\n",
       "      <td>406</td>\n",
       "      <td>61.96</td>\n",
       "      <td>2020-10-05</td>\n",
       "      <td>2020-10-05</td>\n",
       "    </tr>\n",
       "    <tr>\n",
       "      <th>4</th>\n",
       "      <td>15</td>\n",
       "      <td>154</td>\n",
       "      <td>60.77</td>\n",
       "      <td>2020-10-07</td>\n",
       "      <td>2020-10-07</td>\n",
       "    </tr>\n",
       "    <tr>\n",
       "      <th>...</th>\n",
       "      <td>...</td>\n",
       "      <td>...</td>\n",
       "      <td>...</td>\n",
       "      <td>...</td>\n",
       "      <td>...</td>\n",
       "    </tr>\n",
       "    <tr>\n",
       "      <th>430</th>\n",
       "      <td>187</td>\n",
       "      <td>8862</td>\n",
       "      <td>483.76</td>\n",
       "      <td>2021-03-03</td>\n",
       "      <td>2021-03-03</td>\n",
       "    </tr>\n",
       "    <tr>\n",
       "      <th>431</th>\n",
       "      <td>46</td>\n",
       "      <td>2943</td>\n",
       "      <td>324.31</td>\n",
       "      <td>2021-03-03</td>\n",
       "      <td>2021-03-03</td>\n",
       "    </tr>\n",
       "    <tr>\n",
       "      <th>432</th>\n",
       "      <td>13</td>\n",
       "      <td>4002</td>\n",
       "      <td>298.14</td>\n",
       "      <td>2021-03-03</td>\n",
       "      <td>2021-03-03</td>\n",
       "    </tr>\n",
       "    <tr>\n",
       "      <th>433</th>\n",
       "      <td>118</td>\n",
       "      <td>1096</td>\n",
       "      <td>99.19</td>\n",
       "      <td>2021-03-03</td>\n",
       "      <td>2021-03-03</td>\n",
       "    </tr>\n",
       "    <tr>\n",
       "      <th>434</th>\n",
       "      <td>38</td>\n",
       "      <td>1647</td>\n",
       "      <td>145.13</td>\n",
       "      <td>2021-03-03</td>\n",
       "      <td>2021-03-03</td>\n",
       "    </tr>\n",
       "  </tbody>\n",
       "</table>\n",
       "<p>398 rows × 5 columns</p>\n",
       "</div>"
      ],
      "text/plain": [
       "    clicks impressions   spend  date_start       date\n",
       "0       65         584  103.25  2020-10-02 2020-10-02\n",
       "1       74         974  163.65  2020-10-03 2020-10-03\n",
       "2       79        1262  171.14  2020-10-04 2020-10-04\n",
       "3       21         406   61.96  2020-10-05 2020-10-05\n",
       "4       15         154   60.77  2020-10-07 2020-10-07\n",
       "..     ...         ...     ...         ...        ...\n",
       "430    187        8862  483.76  2021-03-03 2021-03-03\n",
       "431     46        2943  324.31  2021-03-03 2021-03-03\n",
       "432     13        4002  298.14  2021-03-03 2021-03-03\n",
       "433    118        1096   99.19  2021-03-03 2021-03-03\n",
       "434     38        1647  145.13  2021-03-03 2021-03-03\n",
       "\n",
       "[398 rows x 5 columns]"
      ]
     },
     "execution_count": 80,
     "metadata": {},
     "output_type": "execute_result"
    }
   ],
   "source": [
    "spent_fb['date'] = pd.to_datetime(spent_fb['date_start'])\n",
    "spent_fb['spend'] = spent_fb['spend'].astype(float)\n",
    "spent_fb"
   ]
  },
  {
   "cell_type": "code",
   "execution_count": 70,
   "metadata": {},
   "outputs": [
    {
     "data": {
      "text/plain": [
       "clicks                 object\n",
       "impressions            object\n",
       "spend                 float64\n",
       "date_start             object\n",
       "date           datetime64[ns]\n",
       "dtype: object"
      ]
     },
     "execution_count": 70,
     "metadata": {},
     "output_type": "execute_result"
    }
   ],
   "source": [
    "spent_fb.dtypes"
   ]
  },
  {
   "cell_type": "code",
   "execution_count": 92,
   "metadata": {},
   "outputs": [],
   "source": [
    "# sns.pairplot(spent_fb, x_vars='date', y_vars='spend', height=4,kind='reg')\n",
    "\n",
    "# plt.show()"
   ]
  },
  {
   "cell_type": "code",
   "execution_count": 85,
   "metadata": {},
   "outputs": [
    {
     "data": {
      "text/plain": [
       "<AxesSubplot:xlabel='index', ylabel='spend'>"
      ]
     },
     "execution_count": 85,
     "metadata": {},
     "output_type": "execute_result"
    },
    {
     "data": {
      "image/png": "[encoded data removed]",
      "text/plain": [
       "<Figure size 432x288 with 1 Axes>"
      ]
     },
     "metadata": {
      "needs_background": "light"
     },
     "output_type": "display_data"
    }
   ],
   "source": [
    "spent_fb[['spend']].reset_index().plot.scatter(x='index', y='spend')"
   ]
  },
  {
   "cell_type": "code",
   "execution_count": 88,
   "metadata": {},
   "outputs": [
    {
     "data": {
      "text/html": [
       "<div>\n",
       "<style scoped>\n",
       "    .dataframe tbody tr th:only-of-type {\n",
       "        vertical-align: middle;\n",
       "    }\n",
       "\n",
       "    .dataframe tbody tr th {\n",
       "        vertical-align: top;\n",
       "    }\n",
       "\n",
       "    .dataframe thead th {\n",
       "        text-align: right;\n",
       "    }\n",
       "</style>\n",
       "<table border=\"1\" class=\"dataframe\">\n",
       "  <thead>\n",
       "    <tr style=\"text-align: right;\">\n",
       "      <th></th>\n",
       "      <th>id</th>\n",
       "      <th>created_at</th>\n",
       "      <th>updated_at</th>\n",
       "      <th>source</th>\n",
       "      <th>compaign_name</th>\n",
       "      <th>ads_set_name</th>\n",
       "      <th>ads_id</th>\n",
       "      <th>name</th>\n",
       "      <th>company_name</th>\n",
       "      <th>phone</th>\n",
       "      <th>...</th>\n",
       "      <th>datetime</th>\n",
       "      <th>company_size</th>\n",
       "      <th>lead_name</th>\n",
       "      <th>pipedrive_enable</th>\n",
       "      <th>pipedrive_is_send</th>\n",
       "      <th>day_of_week</th>\n",
       "      <th>date</th>\n",
       "      <th>time</th>\n",
       "      <th>details</th>\n",
       "      <th>value</th>\n",
       "    </tr>\n",
       "  </thead>\n",
       "  <tbody>\n",
       "    <tr>\n",
       "      <th>0</th>\n",
       "      <td>501</td>\n",
       "      <td>2021-02-19 03:34:46.058825+00:00</td>\n",
       "      <td>2021-02-22 15:24:22.743411+00:00</td>\n",
       "      <td>GG ADS</td>\n",
       "      <td>Product-250121</td>\n",
       "      <td>โปรแกรมเอกสาร</td>\n",
       "      <td>e-Memo</td>\n",
       "      <td></td>\n",
       "      <td></td>\n",
       "      <td></td>\n",
       "      <td>...</td>\n",
       "      <td>2021-02-19 03:34:46.048972+00:00</td>\n",
       "      <td></td>\n",
       "      <td></td>\n",
       "      <td>True</td>\n",
       "      <td>False</td>\n",
       "      <td>4</td>\n",
       "      <td>2021-02-19</td>\n",
       "      <td>10:34:46.048000</td>\n",
       "      <td></td>\n",
       "      <td>0</td>\n",
       "    </tr>\n",
       "    <tr>\n",
       "      <th>1</th>\n",
       "      <td>508</td>\n",
       "      <td>2021-02-19 10:42:23.608690+00:00</td>\n",
       "      <td>2021-02-22 15:24:22.808218+00:00</td>\n",
       "      <td>FB ADS</td>\n",
       "      <td>PRO:EMEM_OBJ:CONV_CN:NORM_AW:SING_CONT:4STEPS ...</td>\n",
       "      <td>IT-TECH-270121</td>\n",
       "      <td>23846978677060634</td>\n",
       "      <td>มานะ​  มงคลเภา</td>\n",
       "      <td>บ.ดูโป​ (ประเทศไทย)​</td>\n",
       "      <td>0954301477</td>\n",
       "      <td>...</td>\n",
       "      <td>2021-02-19 10:42:23+00:00</td>\n",
       "      <td></td>\n",
       "      <td>มานะ​  มงคลเภา: บ.ดูโป​ (ประเทศไทย)​</td>\n",
       "      <td>True</td>\n",
       "      <td>False</td>\n",
       "      <td>4</td>\n",
       "      <td>2021-02-19</td>\n",
       "      <td>17:42:23</td>\n",
       "      <td>None</td>\n",
       "      <td>0</td>\n",
       "    </tr>\n",
       "    <tr>\n",
       "      <th>2</th>\n",
       "      <td>509</td>\n",
       "      <td>2021-02-20 19:24:01.275253+00:00</td>\n",
       "      <td>2021-02-22 15:24:22.812849+00:00</td>\n",
       "      <td>GG ORG</td>\n",
       "      <td></td>\n",
       "      <td></td>\n",
       "      <td></td>\n",
       "      <td>ชุติพนธ์</td>\n",
       "      <td>ชุติพนธ์</td>\n",
       "      <td>0916982333</td>\n",
       "      <td>...</td>\n",
       "      <td>2021-02-20 19:24:00+00:00</td>\n",
       "      <td></td>\n",
       "      <td>ชุติพนธ์: ชุติพนธ์</td>\n",
       "      <td>True</td>\n",
       "      <td>True</td>\n",
       "      <td>6</td>\n",
       "      <td>2021-02-21</td>\n",
       "      <td>02:24:00</td>\n",
       "      <td>None</td>\n",
       "      <td>0</td>\n",
       "    </tr>\n",
       "    <tr>\n",
       "      <th>3</th>\n",
       "      <td>158</td>\n",
       "      <td>2021-01-20 10:28:13.681791+00:00</td>\n",
       "      <td>2021-02-22 15:24:22.863933+00:00</td>\n",
       "      <td>FB ADS</td>\n",
       "      <td></td>\n",
       "      <td></td>\n",
       "      <td></td>\n",
       "      <td></td>\n",
       "      <td>บ.กรุงเทพเหล็กกล้า</td>\n",
       "      <td></td>\n",
       "      <td>...</td>\n",
       "      <td>2020-12-01 17:00:00+00:00</td>\n",
       "      <td></td>\n",
       "      <td>บ.กรุงเทพเหล็กกล้า</td>\n",
       "      <td>False</td>\n",
       "      <td>False</td>\n",
       "      <td>2</td>\n",
       "      <td>2020-12-02</td>\n",
       "      <td>00:00:00</td>\n",
       "      <td></td>\n",
       "      <td>0</td>\n",
       "    </tr>\n",
       "    <tr>\n",
       "      <th>4</th>\n",
       "      <td>420</td>\n",
       "      <td>2021-02-08 17:08:30.513911+00:00</td>\n",
       "      <td>2021-02-22 15:24:22.876682+00:00</td>\n",
       "      <td>GG ADS</td>\n",
       "      <td></td>\n",
       "      <td></td>\n",
       "      <td></td>\n",
       "      <td></td>\n",
       "      <td></td>\n",
       "      <td></td>\n",
       "      <td>...</td>\n",
       "      <td>2021-02-08 17:08:30.512920+00:00</td>\n",
       "      <td></td>\n",
       "      <td></td>\n",
       "      <td>True</td>\n",
       "      <td>False</td>\n",
       "      <td>1</td>\n",
       "      <td>2021-02-09</td>\n",
       "      <td>00:08:30.512000</td>\n",
       "      <td></td>\n",
       "      <td>0</td>\n",
       "    </tr>\n",
       "  </tbody>\n",
       "</table>\n",
       "<p>5 rows × 27 columns</p>\n",
       "</div>"
      ],
      "text/plain": [
       "    id                       created_at                       updated_at  \\\n",
       "0  501 2021-02-19 03:34:46.058825+00:00 2021-02-22 15:24:22.743411+00:00   \n",
       "1  508 2021-02-19 10:42:23.608690+00:00 2021-02-22 15:24:22.808218+00:00   \n",
       "2  509 2021-02-20 19:24:01.275253+00:00 2021-02-22 15:24:22.812849+00:00   \n",
       "3  158 2021-01-20 10:28:13.681791+00:00 2021-02-22 15:24:22.863933+00:00   \n",
       "4  420 2021-02-08 17:08:30.513911+00:00 2021-02-22 15:24:22.876682+00:00   \n",
       "\n",
       "   source                                      compaign_name    ads_set_name  \\\n",
       "0  GG ADS                                     Product-250121   โปรแกรมเอกสาร   \n",
       "1  FB ADS  PRO:EMEM_OBJ:CONV_CN:NORM_AW:SING_CONT:4STEPS ...  IT-TECH-270121   \n",
       "2  GG ORG                                                                      \n",
       "3  FB ADS                                                                      \n",
       "4  GG ADS                                                                      \n",
       "\n",
       "              ads_id            name          company_name       phone  ...  \\\n",
       "0             e-Memo                                                    ...   \n",
       "1  23846978677060634  มานะ​  มงคลเภา  บ.ดูโป​ (ประเทศไทย)​  0954301477  ...   \n",
       "2                           ชุติพนธ์              ชุติพนธ์  0916982333  ...   \n",
       "3                                       บ.กรุงเทพเหล็กกล้า              ...   \n",
       "4                                                                       ...   \n",
       "\n",
       "                          datetime company_size  \\\n",
       "0 2021-02-19 03:34:46.048972+00:00                \n",
       "1        2021-02-19 10:42:23+00:00                \n",
       "2        2021-02-20 19:24:00+00:00                \n",
       "3        2020-12-01 17:00:00+00:00                \n",
       "4 2021-02-08 17:08:30.512920+00:00                \n",
       "\n",
       "                              lead_name pipedrive_enable pipedrive_is_send  \\\n",
       "0                                                   True             False   \n",
       "1  มานะ​  มงคลเภา: บ.ดูโป​ (ประเทศไทย)​             True             False   \n",
       "2                    ชุติพนธ์: ชุติพนธ์             True              True   \n",
       "3                    บ.กรุงเทพเหล็กกล้า            False             False   \n",
       "4                                                   True             False   \n",
       "\n",
       "  day_of_week       date             time details value  \n",
       "0           4 2021-02-19  10:34:46.048000             0  \n",
       "1           4 2021-02-19         17:42:23    None     0  \n",
       "2           6 2021-02-21         02:24:00    None     0  \n",
       "3           2 2020-12-02         00:00:00             0  \n",
       "4           1 2021-02-09  00:08:30.512000             0  \n",
       "\n",
       "[5 rows x 27 columns]"
      ]
     },
     "execution_count": 88,
     "metadata": {},
     "output_type": "execute_result"
    }
   ],
   "source": [
    "lead_data = pd.read_sql(\"marketing_lead\", engine)\n",
    "lead_data.head()"
   ]
  },
  {
   "cell_type": "code",
   "execution_count": 89,
   "metadata": {},
   "outputs": [
    {
     "data": {
      "text/plain": [
       "id                                 int64\n",
       "created_at           datetime64[ns, UTC]\n",
       "updated_at           datetime64[ns, UTC]\n",
       "source                            object\n",
       "compaign_name                     object\n",
       "ads_set_name                      object\n",
       "ads_id                            object\n",
       "name                              object\n",
       "company_name                      object\n",
       "phone                             object\n",
       "email                             object\n",
       "industry                          object\n",
       "status                            object\n",
       "reason                            object\n",
       "from_url                          object\n",
       "remark                            object\n",
       "product                           object\n",
       "datetime             datetime64[ns, UTC]\n",
       "company_size                      object\n",
       "lead_name                         object\n",
       "pipedrive_enable                    bool\n",
       "pipedrive_is_send                   bool\n",
       "day_of_week                        int64\n",
       "date                      datetime64[ns]\n",
       "time                              object\n",
       "details                           object\n",
       "value                              int64\n",
       "dtype: object"
      ]
     },
     "execution_count": 89,
     "metadata": {},
     "output_type": "execute_result"
    }
   ],
   "source": [
    "lead_data.dtypes"
   ]
  },
  {
   "cell_type": "code",
   "execution_count": 90,
   "metadata": {},
   "outputs": [
    {
     "data": {
      "text/html": [
       "<div>\n",
       "<style scoped>\n",
       "    .dataframe tbody tr th:only-of-type {\n",
       "        vertical-align: middle;\n",
       "    }\n",
       "\n",
       "    .dataframe tbody tr th {\n",
       "        vertical-align: top;\n",
       "    }\n",
       "\n",
       "    .dataframe thead th {\n",
       "        text-align: right;\n",
       "    }\n",
       "</style>\n",
       "<table border=\"1\" class=\"dataframe\">\n",
       "  <thead>\n",
       "    <tr style=\"text-align: right;\">\n",
       "      <th></th>\n",
       "      <th>Date</th>\n",
       "      <th>campaignname</th>\n",
       "      <th>id</th>\n",
       "      <th>adgroupname</th>\n",
       "      <th>criteria</th>\n",
       "      <th>status</th>\n",
       "      <th>clicks</th>\n",
       "      <th>impressions</th>\n",
       "      <th>Cost</th>\n",
       "      <th>ctr</th>\n",
       "      <th>conversions</th>\n",
       "      <th>conversionrate</th>\n",
       "      <th>costperconversion</th>\n",
       "    </tr>\n",
       "  </thead>\n",
       "  <tbody>\n",
       "    <tr>\n",
       "      <th>0</th>\n",
       "      <td>2020-10-27</td>\n",
       "      <td>e-Memo Youtube</td>\n",
       "      <td>297019714445</td>\n",
       "      <td>e-Memo Product Features - 020321</td>\n",
       "      <td>pdf signature online</td>\n",
       "      <td>enabled</td>\n",
       "      <td>0</td>\n",
       "      <td>0</td>\n",
       "      <td>0</td>\n",
       "      <td>0.00%</td>\n",
       "      <td>0</td>\n",
       "      <td>0.00%</td>\n",
       "      <td>0</td>\n",
       "    </tr>\n",
       "    <tr>\n",
       "      <th>1</th>\n",
       "      <td>2020-10-28</td>\n",
       "      <td>e-Memo Youtube</td>\n",
       "      <td>297019714445</td>\n",
       "      <td>e-Memo Product Features - 020321</td>\n",
       "      <td>pdf signature online</td>\n",
       "      <td>enabled</td>\n",
       "      <td>0</td>\n",
       "      <td>0</td>\n",
       "      <td>0</td>\n",
       "      <td>0.00%</td>\n",
       "      <td>0</td>\n",
       "      <td>0.00%</td>\n",
       "      <td>0</td>\n",
       "    </tr>\n",
       "    <tr>\n",
       "      <th>2</th>\n",
       "      <td>2020-10-29</td>\n",
       "      <td>e-Memo Youtube</td>\n",
       "      <td>297019714445</td>\n",
       "      <td>e-Memo Product Features - 020321</td>\n",
       "      <td>pdf signature online</td>\n",
       "      <td>enabled</td>\n",
       "      <td>0</td>\n",
       "      <td>0</td>\n",
       "      <td>0</td>\n",
       "      <td>0.00%</td>\n",
       "      <td>0</td>\n",
       "      <td>0.00%</td>\n",
       "      <td>0</td>\n",
       "    </tr>\n",
       "    <tr>\n",
       "      <th>3</th>\n",
       "      <td>2020-10-30</td>\n",
       "      <td>e-Memo Youtube</td>\n",
       "      <td>297019714445</td>\n",
       "      <td>e-Memo Product Features - 020321</td>\n",
       "      <td>pdf signature online</td>\n",
       "      <td>enabled</td>\n",
       "      <td>0</td>\n",
       "      <td>0</td>\n",
       "      <td>0</td>\n",
       "      <td>0.00%</td>\n",
       "      <td>0</td>\n",
       "      <td>0.00%</td>\n",
       "      <td>0</td>\n",
       "    </tr>\n",
       "    <tr>\n",
       "      <th>4</th>\n",
       "      <td>2020-10-31</td>\n",
       "      <td>e-Memo Youtube</td>\n",
       "      <td>297019714445</td>\n",
       "      <td>e-Memo Product Features - 020321</td>\n",
       "      <td>pdf signature online</td>\n",
       "      <td>enabled</td>\n",
       "      <td>0</td>\n",
       "      <td>0</td>\n",
       "      <td>0</td>\n",
       "      <td>0.00%</td>\n",
       "      <td>0</td>\n",
       "      <td>0.00%</td>\n",
       "      <td>0</td>\n",
       "    </tr>\n",
       "  </tbody>\n",
       "</table>\n",
       "</div>"
      ],
      "text/plain": [
       "         Date    campaignname            id                       adgroupname  \\\n",
       "0  2020-10-27  e-Memo Youtube  297019714445  e-Memo Product Features - 020321   \n",
       "1  2020-10-28  e-Memo Youtube  297019714445  e-Memo Product Features - 020321   \n",
       "2  2020-10-29  e-Memo Youtube  297019714445  e-Memo Product Features - 020321   \n",
       "3  2020-10-30  e-Memo Youtube  297019714445  e-Memo Product Features - 020321   \n",
       "4  2020-10-31  e-Memo Youtube  297019714445  e-Memo Product Features - 020321   \n",
       "\n",
       "               criteria   status clicks impressions Cost    ctr conversions  \\\n",
       "0  pdf signature online  enabled      0           0    0  0.00%           0   \n",
       "1  pdf signature online  enabled      0           0    0  0.00%           0   \n",
       "2  pdf signature online  enabled      0           0    0  0.00%           0   \n",
       "3  pdf signature online  enabled      0           0    0  0.00%           0   \n",
       "4  pdf signature online  enabled      0           0    0  0.00%           0   \n",
       "\n",
       "  conversionrate costperconversion  \n",
       "0          0.00%                 0  \n",
       "1          0.00%                 0  \n",
       "2          0.00%                 0  \n",
       "3          0.00%                 0  \n",
       "4          0.00%                 0  "
      ]
     },
     "execution_count": 90,
     "metadata": {},
     "output_type": "execute_result"
    }
   ],
   "source": [
    "gg_data = pd.read_sql(\"etl_google_ads\", engine)\n",
    "gg_data.head()"
   ]
  },
  {
   "cell_type": "code",
   "execution_count": 91,
   "metadata": {},
   "outputs": [
    {
     "data": {
      "text/plain": [
       "Date                 object\n",
       "campaignname         object\n",
       "id                   object\n",
       "adgroupname          object\n",
       "criteria             object\n",
       "status               object\n",
       "clicks               object\n",
       "impressions          object\n",
       "Cost                 object\n",
       "ctr                  object\n",
       "conversions          object\n",
       "conversionrate       object\n",
       "costperconversion    object\n",
       "dtype: object"
      ]
     },
     "execution_count": 91,
     "metadata": {},
     "output_type": "execute_result"
    }
   ],
   "source": [
    "gg_data.dtypes"
   ]
  },
  {
   "cell_type": "code",
   "execution_count": 93,
   "metadata": {},
   "outputs": [],
   "source": [
    "gg_data['Cost'] = gg_data['Cost'].astype(float)\n",
    "gg_data['clicks'] = gg_data['clicks'].astype(float)\n",
    "gg_data['impressions'] = gg_data['impressions'].astype(float)"
   ]
  },
  {
   "cell_type": "code",
   "execution_count": 94,
   "metadata": {},
   "outputs": [
    {
     "data": {
      "text/plain": [
       "<AxesSubplot:xlabel='index', ylabel='Cost'>"
      ]
     },
     "execution_count": 94,
     "metadata": {},
     "output_type": "execute_result"
    },
    {
     "data": {
      "image/png": "[encoded data removed]",
      "text/plain": [
       "<Figure size 432x288 with 1 Axes>"
      ]
     },
     "metadata": {
      "needs_background": "light"
     },
     "output_type": "display_data"
    }
   ],
   "source": [
    "gg_data[['Cost']].reset_index().plot.scatter(x='index', y='Cost')"
   ]
  },
  {
   "cell_type": "code",
   "execution_count": 95,
   "metadata": {},
   "outputs": [
    {
     "data": {
      "text/plain": [
       "Date                  object\n",
       "campaignname          object\n",
       "id                    object\n",
       "adgroupname           object\n",
       "criteria              object\n",
       "status                object\n",
       "clicks               float64\n",
       "impressions          float64\n",
       "Cost                 float64\n",
       "ctr                   object\n",
       "conversions           object\n",
       "conversionrate        object\n",
       "costperconversion     object\n",
       "dtype: object"
      ]
     },
     "execution_count": 95,
     "metadata": {},
     "output_type": "execute_result"
    }
   ],
   "source": [
    "gg_data.dtypes"
   ]
  },
  {
   "cell_type": "code",
   "execution_count": 96,
   "metadata": {},
   "outputs": [
    {
     "data": {
      "text/plain": [
       "<AxesSubplot:>"
      ]
     },
     "execution_count": 96,
     "metadata": {},
     "output_type": "execute_result"
    },
    {
     "data": {
      "image/png": "[encoded data removed]",
      "text/plain": [
       "<Figure size 720x216 with 1 Axes>"
      ]
     },
     "metadata": {
      "needs_background": "light"
     },
     "output_type": "display_data"
    }
   ],
   "source": [
    "gg_data.plot(grid=True, lw=0.5, figsize=(10,3)) # "
   ]
  },
  {
   "cell_type": "code",
   "execution_count": 97,
   "metadata": {},
   "outputs": [],
   "source": [
    "gg_data.Date = pd.to_datetime(gg_data.Date, format='%Y-%m-%d')"
   ]
  },
  {
   "cell_type": "code",
   "execution_count": 98,
   "metadata": {},
   "outputs": [],
   "source": [
    "gg_data.set_index('Date', inplace=True)"
   ]
  },
  {
   "cell_type": "code",
   "execution_count": 99,
   "metadata": {},
   "outputs": [
    {
     "data": {
      "text/plain": [
       "<AxesSubplot:xlabel='Date'>"
      ]
     },
     "execution_count": 99,
     "metadata": {},
     "output_type": "execute_result"
    },
    {
     "data": {
      "image/png": "[encoded data removed]",
      "text/plain": [
       "<Figure size 432x288 with 1 Axes>"
      ]
     },
     "metadata": {
      "needs_background": "light"
     },
     "output_type": "display_data"
    }
   ],
   "source": [
    "gg_data.plot(lw=0.5)"
   ]
  },
  {
   "cell_type": "code",
   "execution_count": 100,
   "metadata": {},
   "outputs": [
    {
     "data": {
      "image/png": "[encoded data removed]",
      "text/plain": [
       "<Figure size 792x576 with 3 Axes>"
      ]
     },
     "metadata": {
      "needs_background": "light"
     },
     "output_type": "display_data"
    }
   ],
   "source": [
    "gg_data.plot(marker='.', linestyle='None', figsize=(11,8), subplots=True, grid=True)\n",
    "plt.show()"
   ]
  },
  {
   "cell_type": "code",
   "execution_count": 102,
   "metadata": {},
   "outputs": [
    {
     "data": {
      "image/png": "[encoded data removed]",
      "text/plain": [
       "<Figure size 432x288 with 1 Axes>"
      ]
     },
     "metadata": {
      "needs_background": "light"
     },
     "output_type": "display_data"
    }
   ],
   "source": [
    "start, end = '2020-10','2021-3'\n",
    "gg_data.Cost.loc[start:end].plot(marker='o', label='Daily', markersize=2, alpha=0.7)\n",
    "gg_data.Cost.loc[start:end].resample('7d').mean().plot(marker='o', c='blue',\n",
    "                                                 markersize=8, label='Mean Sampling')\n",
    "gg_data.Cost.loc[start:end].rolling(7, center=True).mean().plot(marker='o',\n",
    "                                                 markersize=4, label='Mean Rolling')\n",
    "plt.ylabel('Power (GWh)');\n",
    "plt.title('Solar')\n",
    "plt.legend()\n",
    "plt.grid()\n",
    "plt.show()"
   ]
  },
  {
   "cell_type": "code",
   "execution_count": null,
   "metadata": {},
   "outputs": [],
   "source": []
  }
 ],
 "metadata": {
  "kernelspec": {
   "display_name": "Django Shell-Plus",
   "language": "python",
   "name": "django_extensions"
  },
  "language_info": {
   "codemirror_mode": {
    "name": "ipython",
    "version": 3
   },
   "file_extension": ".py",
   "mimetype": "text/x-python",
   "name": "python",
   "nbconvert_exporter": "python",
   "pygments_lexer": "ipython3",
   "version": "3.8.7"
  }
 },
 "nbformat": 4,
 "nbformat_minor": 4
}
