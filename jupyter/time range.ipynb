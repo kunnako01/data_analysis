{
 "cells": [
  {
   "cell_type": "code",
   "execution_count": 1,
   "metadata": {},
   "outputs": [
    {
     "ename": "ModuleNotFoundError",
     "evalue": "No module named 'sklearn'",
     "output_type": "error",
     "traceback": [
      "\u001b[0;31m---------------------------------------------------------------------------\u001b[0m",
      "\u001b[0;31mModuleNotFoundError\u001b[0m                       Traceback (most recent call last)",
      "\u001b[0;32m<ipython-input-1-d216344fd7db>\u001b[0m in \u001b[0;36m<module>\u001b[0;34m\u001b[0m\n\u001b[1;32m      4\u001b[0m \u001b[0;32mimport\u001b[0m \u001b[0mseaborn\u001b[0m \u001b[0;32mas\u001b[0m \u001b[0msns\u001b[0m\u001b[0;34m\u001b[0m\u001b[0;34m\u001b[0m\u001b[0m\n\u001b[1;32m      5\u001b[0m \u001b[0;32mimport\u001b[0m \u001b[0mmatplotlib\u001b[0m\u001b[0;34m.\u001b[0m\u001b[0mpyplot\u001b[0m \u001b[0;32mas\u001b[0m \u001b[0mplt\u001b[0m\u001b[0;34m\u001b[0m\u001b[0;34m\u001b[0m\u001b[0m\n\u001b[0;32m----> 6\u001b[0;31m \u001b[0;32mfrom\u001b[0m \u001b[0msklearn\u001b[0m\u001b[0;34m.\u001b[0m\u001b[0mlinear_model\u001b[0m \u001b[0;32mimport\u001b[0m \u001b[0mLinearRegression\u001b[0m\u001b[0;34m\u001b[0m\u001b[0;34m\u001b[0m\u001b[0m\n\u001b[0m\u001b[1;32m      7\u001b[0m \u001b[0;32mfrom\u001b[0m \u001b[0msklearn\u001b[0m\u001b[0;34m.\u001b[0m\u001b[0mdatasets\u001b[0m \u001b[0;32mimport\u001b[0m \u001b[0mload_iris\u001b[0m\u001b[0;34m\u001b[0m\u001b[0;34m\u001b[0m\u001b[0m\n\u001b[1;32m      8\u001b[0m \u001b[0;32mfrom\u001b[0m \u001b[0msklearn\u001b[0m\u001b[0;34m.\u001b[0m\u001b[0mlinear_model\u001b[0m \u001b[0;32mimport\u001b[0m \u001b[0mLogisticRegression\u001b[0m\u001b[0;34m\u001b[0m\u001b[0;34m\u001b[0m\u001b[0m\n",
      "\u001b[0;31mModuleNotFoundError\u001b[0m: No module named 'sklearn'"
     ]
    }
   ],
   "source": [
    "import random as rd\n",
    "import pandas as pd\n",
    "import numpy as np\n",
    "import seaborn as sns\n",
    "import matplotlib.pyplot as plt\n",
    "from sklearn.linear_model import LinearRegression\n",
    "from sklearn.datasets import load_iris\n",
    "from sklearn.linear_model import LogisticRegression\n",
    "from sklearn.metrics import mean_squared_error, mean_absolute_error #, r2_score\n",
    "from sklearn.model_selection import train_test_split\n",
    "\n",
    "import gspread\n",
    "from sqlalchemy import create_engine\n",
    "import re\n",
    "\n",
    "gc = gspread.service_account(filename=\"./credentials.json\")\n",
    "\n",
    "import environ\n",
    "env = environ.Env()\n",
    "database_url = env.str(\n",
    "    var=\"DATABASE_URL\", default=\"postgres://postgres:@postgres:5432/postgres\"\n",
    ")\n",
    "engine = create_engine(database_url, echo=False)"
   ]
  },
  {
   "cell_type": "code",
   "execution_count": 2,
   "metadata": {},
   "outputs": [],
   "source": [
    "time = pd.read_sql(\"etl_sale_deals_time_of_stage\", engine)"
   ]
  },
  {
   "cell_type": "code",
   "execution_count": 3,
   "metadata": {},
   "outputs": [
    {
     "data": {
      "text/html": [
       "<div>\n",
       "<style scoped>\n",
       "    .dataframe tbody tr th:only-of-type {\n",
       "        vertical-align: middle;\n",
       "    }\n",
       "\n",
       "    .dataframe tbody tr th {\n",
       "        vertical-align: top;\n",
       "    }\n",
       "\n",
       "    .dataframe thead th {\n",
       "        text-align: right;\n",
       "    }\n",
       "</style>\n",
       "<table border=\"1\" class=\"dataframe\">\n",
       "  <thead>\n",
       "    <tr style=\"text-align: right;\">\n",
       "      <th></th>\n",
       "      <th>deal_id</th>\n",
       "      <th>pipeline_id</th>\n",
       "      <th>status</th>\n",
       "      <th>lead_to_meeting</th>\n",
       "      <th>meeting_to_Final</th>\n",
       "    </tr>\n",
       "  </thead>\n",
       "  <tbody>\n",
       "    <tr>\n",
       "      <th>0</th>\n",
       "      <td>11</td>\n",
       "      <td>1</td>\n",
       "      <td>lost</td>\n",
       "      <td>963200</td>\n",
       "      <td>963200</td>\n",
       "    </tr>\n",
       "    <tr>\n",
       "      <th>1</th>\n",
       "      <td>25</td>\n",
       "      <td>1</td>\n",
       "      <td>won</td>\n",
       "      <td>341107</td>\n",
       "      <td>4403095</td>\n",
       "    </tr>\n",
       "    <tr>\n",
       "      <th>2</th>\n",
       "      <td>28</td>\n",
       "      <td>1</td>\n",
       "      <td>lost</td>\n",
       "      <td>0</td>\n",
       "      <td>6644327</td>\n",
       "    </tr>\n",
       "    <tr>\n",
       "      <th>3</th>\n",
       "      <td>29</td>\n",
       "      <td>1</td>\n",
       "      <td>won</td>\n",
       "      <td>0</td>\n",
       "      <td>2148487</td>\n",
       "    </tr>\n",
       "    <tr>\n",
       "      <th>4</th>\n",
       "      <td>30</td>\n",
       "      <td>5</td>\n",
       "      <td>won</td>\n",
       "      <td>2148100</td>\n",
       "      <td>2148100</td>\n",
       "    </tr>\n",
       "  </tbody>\n",
       "</table>\n",
       "</div>"
      ],
      "text/plain": [
       "   deal_id  pipeline_id status  lead_to_meeting  meeting_to_Final\n",
       "0       11            1   lost           963200            963200\n",
       "1       25            1    won           341107           4403095\n",
       "2       28            1   lost                0           6644327\n",
       "3       29            1    won                0           2148487\n",
       "4       30            5    won          2148100           2148100"
      ]
     },
     "execution_count": 3,
     "metadata": {},
     "output_type": "execute_result"
    }
   ],
   "source": [
    "time.head()"
   ]
  },
  {
   "cell_type": "code",
   "execution_count": 4,
   "metadata": {},
   "outputs": [],
   "source": [
    "# time = time[time['status'] == 'won']"
   ]
  },
  {
   "cell_type": "code",
   "execution_count": 5,
   "metadata": {},
   "outputs": [
    {
     "data": {
      "text/plain": [
       "deal_id              int64\n",
       "pipeline_id          int64\n",
       "status              object\n",
       "lead_to_meeting      int64\n",
       "meeting_to_Final     int64\n",
       "dtype: object"
      ]
     },
     "execution_count": 5,
     "metadata": {},
     "output_type": "execute_result"
    }
   ],
   "source": [
    "time.dtypes"
   ]
  },
  {
   "cell_type": "code",
   "execution_count": 6,
   "metadata": {},
   "outputs": [],
   "source": [
    "time = time[(time['meeting_to_Final'] > 10000) & (time['meeting_to_Final'] <= 10000000)]"
   ]
  },
  {
   "cell_type": "code",
   "execution_count": 7,
   "metadata": {},
   "outputs": [
    {
     "data": {
      "text/html": [
       "<div>\n",
       "<style scoped>\n",
       "    .dataframe tbody tr th:only-of-type {\n",
       "        vertical-align: middle;\n",
       "    }\n",
       "\n",
       "    .dataframe tbody tr th {\n",
       "        vertical-align: top;\n",
       "    }\n",
       "\n",
       "    .dataframe thead th {\n",
       "        text-align: right;\n",
       "    }\n",
       "</style>\n",
       "<table border=\"1\" class=\"dataframe\">\n",
       "  <thead>\n",
       "    <tr style=\"text-align: right;\">\n",
       "      <th></th>\n",
       "      <th>deal_id</th>\n",
       "      <th>pipeline_id</th>\n",
       "      <th>status</th>\n",
       "      <th>lead_to_meeting</th>\n",
       "      <th>meeting_to_Final</th>\n",
       "    </tr>\n",
       "  </thead>\n",
       "  <tbody>\n",
       "    <tr>\n",
       "      <th>0</th>\n",
       "      <td>11</td>\n",
       "      <td>1</td>\n",
       "      <td>lost</td>\n",
       "      <td>963200</td>\n",
       "      <td>963200</td>\n",
       "    </tr>\n",
       "    <tr>\n",
       "      <th>1</th>\n",
       "      <td>25</td>\n",
       "      <td>1</td>\n",
       "      <td>won</td>\n",
       "      <td>341107</td>\n",
       "      <td>4403095</td>\n",
       "    </tr>\n",
       "    <tr>\n",
       "      <th>2</th>\n",
       "      <td>28</td>\n",
       "      <td>1</td>\n",
       "      <td>lost</td>\n",
       "      <td>0</td>\n",
       "      <td>6644327</td>\n",
       "    </tr>\n",
       "    <tr>\n",
       "      <th>3</th>\n",
       "      <td>29</td>\n",
       "      <td>1</td>\n",
       "      <td>won</td>\n",
       "      <td>0</td>\n",
       "      <td>2148487</td>\n",
       "    </tr>\n",
       "    <tr>\n",
       "      <th>4</th>\n",
       "      <td>30</td>\n",
       "      <td>5</td>\n",
       "      <td>won</td>\n",
       "      <td>2148100</td>\n",
       "      <td>2148100</td>\n",
       "    </tr>\n",
       "    <tr>\n",
       "      <th>...</th>\n",
       "      <td>...</td>\n",
       "      <td>...</td>\n",
       "      <td>...</td>\n",
       "      <td>...</td>\n",
       "      <td>...</td>\n",
       "    </tr>\n",
       "    <tr>\n",
       "      <th>111</th>\n",
       "      <td>393</td>\n",
       "      <td>10</td>\n",
       "      <td>lost</td>\n",
       "      <td>2246711</td>\n",
       "      <td>2246711</td>\n",
       "    </tr>\n",
       "    <tr>\n",
       "      <th>112</th>\n",
       "      <td>404</td>\n",
       "      <td>10</td>\n",
       "      <td>lost</td>\n",
       "      <td>1461060</td>\n",
       "      <td>1461060</td>\n",
       "    </tr>\n",
       "    <tr>\n",
       "      <th>113</th>\n",
       "      <td>409</td>\n",
       "      <td>10</td>\n",
       "      <td>lost</td>\n",
       "      <td>1830169</td>\n",
       "      <td>1830169</td>\n",
       "    </tr>\n",
       "    <tr>\n",
       "      <th>114</th>\n",
       "      <td>443</td>\n",
       "      <td>10</td>\n",
       "      <td>lost</td>\n",
       "      <td>516662</td>\n",
       "      <td>516662</td>\n",
       "    </tr>\n",
       "    <tr>\n",
       "      <th>115</th>\n",
       "      <td>456</td>\n",
       "      <td>10</td>\n",
       "      <td>lost</td>\n",
       "      <td>180630</td>\n",
       "      <td>180630</td>\n",
       "    </tr>\n",
       "  </tbody>\n",
       "</table>\n",
       "<p>100 rows × 5 columns</p>\n",
       "</div>"
      ],
      "text/plain": [
       "     deal_id  pipeline_id status  lead_to_meeting  meeting_to_Final\n",
       "0         11            1   lost           963200            963200\n",
       "1         25            1    won           341107           4403095\n",
       "2         28            1   lost                0           6644327\n",
       "3         29            1    won                0           2148487\n",
       "4         30            5    won          2148100           2148100\n",
       "..       ...          ...    ...              ...               ...\n",
       "111      393           10   lost          2246711           2246711\n",
       "112      404           10   lost          1461060           1461060\n",
       "113      409           10   lost          1830169           1830169\n",
       "114      443           10   lost           516662            516662\n",
       "115      456           10   lost           180630            180630\n",
       "\n",
       "[100 rows x 5 columns]"
      ]
     },
     "execution_count": 7,
     "metadata": {},
     "output_type": "execute_result"
    }
   ],
   "source": [
    "time"
   ]
  },
  {
   "cell_type": "code",
   "execution_count": 8,
   "metadata": {},
   "outputs": [],
   "source": [
    "deals = pd.read_sql(\"etl_sale_deals\", engine)"
   ]
  },
  {
   "cell_type": "code",
   "execution_count": 9,
   "metadata": {},
   "outputs": [
    {
     "data": {
      "text/html": [
       "<div>\n",
       "<style scoped>\n",
       "    .dataframe tbody tr th:only-of-type {\n",
       "        vertical-align: middle;\n",
       "    }\n",
       "\n",
       "    .dataframe tbody tr th {\n",
       "        vertical-align: top;\n",
       "    }\n",
       "\n",
       "    .dataframe thead th {\n",
       "        text-align: right;\n",
       "    }\n",
       "</style>\n",
       "<table border=\"1\" class=\"dataframe\">\n",
       "  <thead>\n",
       "    <tr style=\"text-align: right;\">\n",
       "      <th></th>\n",
       "      <th>deal_id</th>\n",
       "      <th>creator_user_id</th>\n",
       "      <th>user_id</th>\n",
       "      <th>person_id</th>\n",
       "      <th>org_id</th>\n",
       "      <th>stage_id</th>\n",
       "      <th>title</th>\n",
       "      <th>value</th>\n",
       "      <th>currency</th>\n",
       "      <th>add_time</th>\n",
       "      <th>...</th>\n",
       "      <th>weighted_value</th>\n",
       "      <th>formatted_weighted_value</th>\n",
       "      <th>weighted_value_currency</th>\n",
       "      <th>rotten_time</th>\n",
       "      <th>owner_name</th>\n",
       "      <th>cc_email</th>\n",
       "      <th>org_hidden</th>\n",
       "      <th>person_hidden</th>\n",
       "      <th>product_id</th>\n",
       "      <th>product_name</th>\n",
       "    </tr>\n",
       "  </thead>\n",
       "  <tbody>\n",
       "    <tr>\n",
       "      <th>0</th>\n",
       "      <td>10</td>\n",
       "      <td>{\"id\": 11611129, \"name\": \"Sales Tracking\", \"em...</td>\n",
       "      <td>{\"id\": 11611129, \"name\": \"Sales Tracking\", \"em...</td>\n",
       "      <td>{\"active_flag\": true, \"name\": \"\\u0e22\\u0e07\\u0...</td>\n",
       "      <td>{\"name\": \"\\u0e1a\\u0e23\\u0e34\\u0e29\\u0e31\\u0e17...</td>\n",
       "      <td>62</td>\n",
       "      <td>บริษัท วี.เค.จี กรุ๊ป จำกัด</td>\n",
       "      <td>0</td>\n",
       "      <td>THB</td>\n",
       "      <td>2020-07-13 03:35:33</td>\n",
       "      <td>...</td>\n",
       "      <td>0</td>\n",
       "      <td>THB 0</td>\n",
       "      <td>THB</td>\n",
       "      <td>None</td>\n",
       "      <td>Sales Tracking</td>\n",
       "      <td>codium2+deal10@pipedrivemail.com</td>\n",
       "      <td>False</td>\n",
       "      <td>False</td>\n",
       "      <td>NaN</td>\n",
       "      <td>None</td>\n",
       "    </tr>\n",
       "    <tr>\n",
       "      <th>1</th>\n",
       "      <td>11</td>\n",
       "      <td>{\"id\": 11611129, \"name\": \"Sales Tracking\", \"em...</td>\n",
       "      <td>{\"id\": 11611129, \"name\": \"Sales Tracking\", \"em...</td>\n",
       "      <td>{\"active_flag\": true, \"name\": \"\\u0e17\\u0e27\\u0...</td>\n",
       "      <td>null</td>\n",
       "      <td>2</td>\n",
       "      <td>ทวี สกุลคุณสวัสดิ์</td>\n",
       "      <td>0</td>\n",
       "      <td>THB</td>\n",
       "      <td>2020-07-13 03:42:29</td>\n",
       "      <td>...</td>\n",
       "      <td>0</td>\n",
       "      <td>THB 0</td>\n",
       "      <td>THB</td>\n",
       "      <td>None</td>\n",
       "      <td>Sales Tracking</td>\n",
       "      <td>codium2+deal11@pipedrivemail.com</td>\n",
       "      <td>False</td>\n",
       "      <td>False</td>\n",
       "      <td>NaN</td>\n",
       "      <td>None</td>\n",
       "    </tr>\n",
       "    <tr>\n",
       "      <th>2</th>\n",
       "      <td>12</td>\n",
       "      <td>{\"id\": 11611129, \"name\": \"Sales Tracking\", \"em...</td>\n",
       "      <td>{\"id\": 11611129, \"name\": \"Sales Tracking\", \"em...</td>\n",
       "      <td>{\"active_flag\": true, \"name\": \"\\u0e17\\u0e34\\u0...</td>\n",
       "      <td>{\"name\": \"\\u0e01\\u0e23\\u0e21\\u0e22\\u0e38\\u0e17...</td>\n",
       "      <td>62</td>\n",
       "      <td>กรมยุทธศึกษาทหารบก</td>\n",
       "      <td>0</td>\n",
       "      <td>THB</td>\n",
       "      <td>2020-07-13 03:45:53</td>\n",
       "      <td>...</td>\n",
       "      <td>0</td>\n",
       "      <td>THB 0</td>\n",
       "      <td>THB</td>\n",
       "      <td>None</td>\n",
       "      <td>Sales Tracking</td>\n",
       "      <td>codium2+deal12@pipedrivemail.com</td>\n",
       "      <td>False</td>\n",
       "      <td>False</td>\n",
       "      <td>NaN</td>\n",
       "      <td>None</td>\n",
       "    </tr>\n",
       "    <tr>\n",
       "      <th>3</th>\n",
       "      <td>13</td>\n",
       "      <td>{\"id\": 11611129, \"name\": \"Sales Tracking\", \"em...</td>\n",
       "      <td>{\"id\": 11611129, \"name\": \"Sales Tracking\", \"em...</td>\n",
       "      <td>{\"active_flag\": true, \"name\": \"\\u0e2a\\u0e38\\u0...</td>\n",
       "      <td>{\"name\": \"\\u0e1a\\u0e23\\u0e34\\u0e29\\u0e31\\u0e17...</td>\n",
       "      <td>62</td>\n",
       "      <td>บริษัท อาบาคัสซึ</td>\n",
       "      <td>0</td>\n",
       "      <td>THB</td>\n",
       "      <td>2020-07-13 03:53:13</td>\n",
       "      <td>...</td>\n",
       "      <td>0</td>\n",
       "      <td>THB 0</td>\n",
       "      <td>THB</td>\n",
       "      <td>None</td>\n",
       "      <td>Sales Tracking</td>\n",
       "      <td>codium2+deal13@pipedrivemail.com</td>\n",
       "      <td>False</td>\n",
       "      <td>False</td>\n",
       "      <td>NaN</td>\n",
       "      <td>None</td>\n",
       "    </tr>\n",
       "    <tr>\n",
       "      <th>4</th>\n",
       "      <td>14</td>\n",
       "      <td>{\"id\": 11611129, \"name\": \"Sales Tracking\", \"em...</td>\n",
       "      <td>{\"id\": 11611129, \"name\": \"Sales Tracking\", \"em...</td>\n",
       "      <td>{\"active_flag\": true, \"name\": \"Warathep Chalad...</td>\n",
       "      <td>{\"name\": \"SNC FORMER PUBLIC COMPANY LIMITED.\",...</td>\n",
       "      <td>62</td>\n",
       "      <td>SNC FORMER PUBLIC COMPANY LIMITED.</td>\n",
       "      <td>0</td>\n",
       "      <td>THB</td>\n",
       "      <td>2020-07-13 04:07:23</td>\n",
       "      <td>...</td>\n",
       "      <td>0</td>\n",
       "      <td>THB 0</td>\n",
       "      <td>THB</td>\n",
       "      <td>None</td>\n",
       "      <td>Sales Tracking</td>\n",
       "      <td>codium2+deal14@pipedrivemail.com</td>\n",
       "      <td>False</td>\n",
       "      <td>False</td>\n",
       "      <td>NaN</td>\n",
       "      <td>None</td>\n",
       "    </tr>\n",
       "  </tbody>\n",
       "</table>\n",
       "<p>5 rows × 64 columns</p>\n",
       "</div>"
      ],
      "text/plain": [
       "   deal_id                                    creator_user_id  \\\n",
       "0       10  {\"id\": 11611129, \"name\": \"Sales Tracking\", \"em...   \n",
       "1       11  {\"id\": 11611129, \"name\": \"Sales Tracking\", \"em...   \n",
       "2       12  {\"id\": 11611129, \"name\": \"Sales Tracking\", \"em...   \n",
       "3       13  {\"id\": 11611129, \"name\": \"Sales Tracking\", \"em...   \n",
       "4       14  {\"id\": 11611129, \"name\": \"Sales Tracking\", \"em...   \n",
       "\n",
       "                                             user_id  \\\n",
       "0  {\"id\": 11611129, \"name\": \"Sales Tracking\", \"em...   \n",
       "1  {\"id\": 11611129, \"name\": \"Sales Tracking\", \"em...   \n",
       "2  {\"id\": 11611129, \"name\": \"Sales Tracking\", \"em...   \n",
       "3  {\"id\": 11611129, \"name\": \"Sales Tracking\", \"em...   \n",
       "4  {\"id\": 11611129, \"name\": \"Sales Tracking\", \"em...   \n",
       "\n",
       "                                           person_id  \\\n",
       "0  {\"active_flag\": true, \"name\": \"\\u0e22\\u0e07\\u0...   \n",
       "1  {\"active_flag\": true, \"name\": \"\\u0e17\\u0e27\\u0...   \n",
       "2  {\"active_flag\": true, \"name\": \"\\u0e17\\u0e34\\u0...   \n",
       "3  {\"active_flag\": true, \"name\": \"\\u0e2a\\u0e38\\u0...   \n",
       "4  {\"active_flag\": true, \"name\": \"Warathep Chalad...   \n",
       "\n",
       "                                              org_id  stage_id  \\\n",
       "0  {\"name\": \"\\u0e1a\\u0e23\\u0e34\\u0e29\\u0e31\\u0e17...        62   \n",
       "1                                               null         2   \n",
       "2  {\"name\": \"\\u0e01\\u0e23\\u0e21\\u0e22\\u0e38\\u0e17...        62   \n",
       "3  {\"name\": \"\\u0e1a\\u0e23\\u0e34\\u0e29\\u0e31\\u0e17...        62   \n",
       "4  {\"name\": \"SNC FORMER PUBLIC COMPANY LIMITED.\",...        62   \n",
       "\n",
       "                                title  value currency             add_time  \\\n",
       "0         บริษัท วี.เค.จี กรุ๊ป จำกัด      0      THB  2020-07-13 03:35:33   \n",
       "1                  ทวี สกุลคุณสวัสดิ์      0      THB  2020-07-13 03:42:29   \n",
       "2                  กรมยุทธศึกษาทหารบก      0      THB  2020-07-13 03:45:53   \n",
       "3                    บริษัท อาบาคัสซึ      0      THB  2020-07-13 03:53:13   \n",
       "4  SNC FORMER PUBLIC COMPANY LIMITED.      0      THB  2020-07-13 04:07:23   \n",
       "\n",
       "   ... weighted_value formatted_weighted_value  weighted_value_currency  \\\n",
       "0  ...              0                    THB 0                      THB   \n",
       "1  ...              0                    THB 0                      THB   \n",
       "2  ...              0                    THB 0                      THB   \n",
       "3  ...              0                    THB 0                      THB   \n",
       "4  ...              0                    THB 0                      THB   \n",
       "\n",
       "   rotten_time      owner_name                          cc_email org_hidden  \\\n",
       "0         None  Sales Tracking  codium2+deal10@pipedrivemail.com      False   \n",
       "1         None  Sales Tracking  codium2+deal11@pipedrivemail.com      False   \n",
       "2         None  Sales Tracking  codium2+deal12@pipedrivemail.com      False   \n",
       "3         None  Sales Tracking  codium2+deal13@pipedrivemail.com      False   \n",
       "4         None  Sales Tracking  codium2+deal14@pipedrivemail.com      False   \n",
       "\n",
       "  person_hidden  product_id  product_name  \n",
       "0         False         NaN          None  \n",
       "1         False         NaN          None  \n",
       "2         False         NaN          None  \n",
       "3         False         NaN          None  \n",
       "4         False         NaN          None  \n",
       "\n",
       "[5 rows x 64 columns]"
      ]
     },
     "execution_count": 9,
     "metadata": {},
     "output_type": "execute_result"
    }
   ],
   "source": [
    "deals.head()"
   ]
  },
  {
   "cell_type": "code",
   "execution_count": 10,
   "metadata": {},
   "outputs": [
    {
     "data": {
      "text/plain": [
       "deal_id              0\n",
       "creator_user_id      0\n",
       "user_id              0\n",
       "person_id            0\n",
       "org_id               0\n",
       "                  ... \n",
       "cc_email             0\n",
       "org_hidden           0\n",
       "person_hidden        0\n",
       "product_id         420\n",
       "product_name       420\n",
       "Length: 64, dtype: int64"
      ]
     },
     "execution_count": 10,
     "metadata": {},
     "output_type": "execute_result"
    }
   ],
   "source": [
    "deals.isnull().sum()"
   ]
  },
  {
   "cell_type": "code",
   "execution_count": 11,
   "metadata": {},
   "outputs": [],
   "source": [
    "# deals.columns.to_list()"
   ]
  },
  {
   "cell_type": "code",
   "execution_count": 12,
   "metadata": {},
   "outputs": [],
   "source": [
    "deals_time = deals[['deal_id', 'add_time', 'value', 'lost_reason']]"
   ]
  },
  {
   "cell_type": "code",
   "execution_count": 13,
   "metadata": {},
   "outputs": [],
   "source": [
    "deal_merge = time.merge(deals_time, on='deal_id', how='inner')\n",
    "# deal_merge = deal_merge[deal_merge['add_time'] > '2020-10-1']\n",
    "deal_merge['Date'] = pd.to_datetime(deal_merge['add_time'])\n",
    "deal_merge.dtypes\n",
    "deal_merge['week'] = deal_merge['Date'].dt.isocalendar().week\n",
    "deal_merge.drop(columns=['Date'], inplace=True)"
   ]
  },
  {
   "cell_type": "code",
   "execution_count": 14,
   "metadata": {},
   "outputs": [
    {
     "data": {
      "text/html": [
       "<div>\n",
       "<style scoped>\n",
       "    .dataframe tbody tr th:only-of-type {\n",
       "        vertical-align: middle;\n",
       "    }\n",
       "\n",
       "    .dataframe tbody tr th {\n",
       "        vertical-align: top;\n",
       "    }\n",
       "\n",
       "    .dataframe thead th {\n",
       "        text-align: right;\n",
       "    }\n",
       "</style>\n",
       "<table border=\"1\" class=\"dataframe\">\n",
       "  <thead>\n",
       "    <tr style=\"text-align: right;\">\n",
       "      <th></th>\n",
       "      <th>deal_id</th>\n",
       "      <th>pipeline_id</th>\n",
       "      <th>status</th>\n",
       "      <th>lead_to_meeting</th>\n",
       "      <th>meeting_to_Final</th>\n",
       "      <th>add_time</th>\n",
       "      <th>value</th>\n",
       "      <th>lost_reason</th>\n",
       "      <th>week</th>\n",
       "    </tr>\n",
       "  </thead>\n",
       "  <tbody>\n",
       "    <tr>\n",
       "      <th>0</th>\n",
       "      <td>11</td>\n",
       "      <td>1</td>\n",
       "      <td>lost</td>\n",
       "      <td>963200</td>\n",
       "      <td>963200</td>\n",
       "      <td>2020-07-13 03:42:29</td>\n",
       "      <td>0</td>\n",
       "      <td>ติดต่อลูกค้าไม่ได้</td>\n",
       "      <td>29</td>\n",
       "    </tr>\n",
       "    <tr>\n",
       "      <th>1</th>\n",
       "      <td>25</td>\n",
       "      <td>1</td>\n",
       "      <td>won</td>\n",
       "      <td>341107</td>\n",
       "      <td>4403095</td>\n",
       "      <td>2020-07-13 04:52:56</td>\n",
       "      <td>73600</td>\n",
       "      <td>None</td>\n",
       "      <td>29</td>\n",
       "    </tr>\n",
       "    <tr>\n",
       "      <th>2</th>\n",
       "      <td>25</td>\n",
       "      <td>1</td>\n",
       "      <td>won</td>\n",
       "      <td>341107</td>\n",
       "      <td>4403095</td>\n",
       "      <td>2020-07-13 04:52:56</td>\n",
       "      <td>73600</td>\n",
       "      <td>None</td>\n",
       "      <td>29</td>\n",
       "    </tr>\n",
       "    <tr>\n",
       "      <th>3</th>\n",
       "      <td>28</td>\n",
       "      <td>1</td>\n",
       "      <td>lost</td>\n",
       "      <td>0</td>\n",
       "      <td>6644327</td>\n",
       "      <td>2020-07-13 06:17:48</td>\n",
       "      <td>0</td>\n",
       "      <td>ทางผู้บริหารบอกว่าราคาสูงเกินไป</td>\n",
       "      <td>29</td>\n",
       "    </tr>\n",
       "    <tr>\n",
       "      <th>4</th>\n",
       "      <td>29</td>\n",
       "      <td>1</td>\n",
       "      <td>won</td>\n",
       "      <td>0</td>\n",
       "      <td>2148487</td>\n",
       "      <td>2020-07-13 06:21:17</td>\n",
       "      <td>284000</td>\n",
       "      <td>None</td>\n",
       "      <td>29</td>\n",
       "    </tr>\n",
       "    <tr>\n",
       "      <th>...</th>\n",
       "      <td>...</td>\n",
       "      <td>...</td>\n",
       "      <td>...</td>\n",
       "      <td>...</td>\n",
       "      <td>...</td>\n",
       "      <td>...</td>\n",
       "      <td>...</td>\n",
       "      <td>...</td>\n",
       "      <td>...</td>\n",
       "    </tr>\n",
       "    <tr>\n",
       "      <th>98</th>\n",
       "      <td>393</td>\n",
       "      <td>10</td>\n",
       "      <td>lost</td>\n",
       "      <td>2246711</td>\n",
       "      <td>2246711</td>\n",
       "      <td>2021-02-10 07:54:24</td>\n",
       "      <td>0</td>\n",
       "      <td>client want ERP</td>\n",
       "      <td>6</td>\n",
       "    </tr>\n",
       "    <tr>\n",
       "      <th>99</th>\n",
       "      <td>404</td>\n",
       "      <td>10</td>\n",
       "      <td>lost</td>\n",
       "      <td>1461060</td>\n",
       "      <td>1461060</td>\n",
       "      <td>2021-02-15 06:14:44</td>\n",
       "      <td>0</td>\n",
       "      <td>cannot contact client</td>\n",
       "      <td>7</td>\n",
       "    </tr>\n",
       "    <tr>\n",
       "      <th>100</th>\n",
       "      <td>409</td>\n",
       "      <td>10</td>\n",
       "      <td>lost</td>\n",
       "      <td>1830169</td>\n",
       "      <td>1830169</td>\n",
       "      <td>2021-02-16 03:19:31</td>\n",
       "      <td>0</td>\n",
       "      <td>they want a production management system</td>\n",
       "      <td>7</td>\n",
       "    </tr>\n",
       "    <tr>\n",
       "      <th>101</th>\n",
       "      <td>443</td>\n",
       "      <td>10</td>\n",
       "      <td>lost</td>\n",
       "      <td>516662</td>\n",
       "      <td>516662</td>\n",
       "      <td>2021-02-24 03:26:50</td>\n",
       "      <td>0</td>\n",
       "      <td>we don't sell e-withholding tax</td>\n",
       "      <td>8</td>\n",
       "    </tr>\n",
       "    <tr>\n",
       "      <th>102</th>\n",
       "      <td>456</td>\n",
       "      <td>10</td>\n",
       "      <td>lost</td>\n",
       "      <td>180630</td>\n",
       "      <td>180630</td>\n",
       "      <td>2021-03-01 07:19:41</td>\n",
       "      <td>0</td>\n",
       "      <td>client not interested anymore</td>\n",
       "      <td>9</td>\n",
       "    </tr>\n",
       "  </tbody>\n",
       "</table>\n",
       "<p>103 rows × 9 columns</p>\n",
       "</div>"
      ],
      "text/plain": [
       "     deal_id  pipeline_id status  lead_to_meeting  meeting_to_Final  \\\n",
       "0         11            1   lost           963200            963200   \n",
       "1         25            1    won           341107           4403095   \n",
       "2         25            1    won           341107           4403095   \n",
       "3         28            1   lost                0           6644327   \n",
       "4         29            1    won                0           2148487   \n",
       "..       ...          ...    ...              ...               ...   \n",
       "98       393           10   lost          2246711           2246711   \n",
       "99       404           10   lost          1461060           1461060   \n",
       "100      409           10   lost          1830169           1830169   \n",
       "101      443           10   lost           516662            516662   \n",
       "102      456           10   lost           180630            180630   \n",
       "\n",
       "                add_time   value                               lost_reason  \\\n",
       "0    2020-07-13 03:42:29       0                        ติดต่อลูกค้าไม่ได้   \n",
       "1    2020-07-13 04:52:56   73600                                      None   \n",
       "2    2020-07-13 04:52:56   73600                                      None   \n",
       "3    2020-07-13 06:17:48       0           ทางผู้บริหารบอกว่าราคาสูงเกินไป   \n",
       "4    2020-07-13 06:21:17  284000                                      None   \n",
       "..                   ...     ...                                       ...   \n",
       "98   2021-02-10 07:54:24       0                           client want ERP   \n",
       "99   2021-02-15 06:14:44       0                     cannot contact client   \n",
       "100  2021-02-16 03:19:31       0  they want a production management system   \n",
       "101  2021-02-24 03:26:50       0           we don't sell e-withholding tax   \n",
       "102  2021-03-01 07:19:41       0             client not interested anymore   \n",
       "\n",
       "     week  \n",
       "0      29  \n",
       "1      29  \n",
       "2      29  \n",
       "3      29  \n",
       "4      29  \n",
       "..    ...  \n",
       "98      6  \n",
       "99      7  \n",
       "100     7  \n",
       "101     8  \n",
       "102     9  \n",
       "\n",
       "[103 rows x 9 columns]"
      ]
     },
     "execution_count": 14,
     "metadata": {},
     "output_type": "execute_result"
    }
   ],
   "source": [
    "deal_merge"
   ]
  },
  {
   "cell_type": "code",
   "execution_count": 15,
   "metadata": {},
   "outputs": [
    {
     "name": "stderr",
     "output_type": "stream",
     "text": [
      "/usr/local/lib/python3.8/site-packages/pandas/core/indexing.py:670: SettingWithCopyWarning: \n",
      "A value is trying to be set on a copy of a slice from a DataFrame\n",
      "\n",
      "See the caveats in the documentation: https://pandas.pydata.org/pandas-docs/stable/user_guide/indexing.html#returning-a-view-versus-a-copy\n",
      "  iloc._setitem_with_indexer(indexer, value)\n"
     ]
    }
   ],
   "source": [
    "from sklearn.preprocessing import LabelEncoder\n",
    "\n",
    "def labelEncode(data, columns):\n",
    "    for i in columns:\n",
    "#         print(i)\n",
    "        lb = LabelEncoder().fit_transform(data[i])\n",
    "        data[i + '_'] = lb\n",
    "columns = ['status']\n",
    "labelEncode(deal_merge, columns)\n",
    "\n",
    "for i, row in deal_merge.iterrows():\n",
    "    if row['lost_reason'] is None:\n",
    "             \n",
    "    else:\n",
    "        deal_merge['lost_reason'].iloc[int(i)] = 0\n",
    "        "
   ]
  },
  {
   "cell_type": "code",
   "execution_count": null,
   "metadata": {},
   "outputs": [],
   "source": []
  },
  {
   "cell_type": "code",
   "execution_count": 16,
   "metadata": {},
   "outputs": [],
   "source": [
    "deal_merge.set_index('add_time', inplace=True)"
   ]
  },
  {
   "cell_type": "code",
   "execution_count": 17,
   "metadata": {},
   "outputs": [
    {
     "data": {
      "text/html": [
       "<div>\n",
       "<style scoped>\n",
       "    .dataframe tbody tr th:only-of-type {\n",
       "        vertical-align: middle;\n",
       "    }\n",
       "\n",
       "    .dataframe tbody tr th {\n",
       "        vertical-align: top;\n",
       "    }\n",
       "\n",
       "    .dataframe thead th {\n",
       "        text-align: right;\n",
       "    }\n",
       "</style>\n",
       "<table border=\"1\" class=\"dataframe\">\n",
       "  <thead>\n",
       "    <tr style=\"text-align: right;\">\n",
       "      <th></th>\n",
       "      <th>deal_id</th>\n",
       "      <th>pipeline_id</th>\n",
       "      <th>status</th>\n",
       "      <th>lead_to_meeting</th>\n",
       "      <th>meeting_to_Final</th>\n",
       "      <th>value</th>\n",
       "      <th>lost_reason</th>\n",
       "      <th>week</th>\n",
       "      <th>status_</th>\n",
       "    </tr>\n",
       "    <tr>\n",
       "      <th>add_time</th>\n",
       "      <th></th>\n",
       "      <th></th>\n",
       "      <th></th>\n",
       "      <th></th>\n",
       "      <th></th>\n",
       "      <th></th>\n",
       "      <th></th>\n",
       "      <th></th>\n",
       "      <th></th>\n",
       "    </tr>\n",
       "  </thead>\n",
       "  <tbody>\n",
       "    <tr>\n",
       "      <th>2020-07-13 03:42:29</th>\n",
       "      <td>11</td>\n",
       "      <td>1</td>\n",
       "      <td>lost</td>\n",
       "      <td>963200</td>\n",
       "      <td>963200</td>\n",
       "      <td>0</td>\n",
       "      <td>0</td>\n",
       "      <td>29</td>\n",
       "      <td>0</td>\n",
       "    </tr>\n",
       "    <tr>\n",
       "      <th>2020-07-13 04:52:56</th>\n",
       "      <td>25</td>\n",
       "      <td>1</td>\n",
       "      <td>won</td>\n",
       "      <td>341107</td>\n",
       "      <td>4403095</td>\n",
       "      <td>73600</td>\n",
       "      <td>1</td>\n",
       "      <td>29</td>\n",
       "      <td>1</td>\n",
       "    </tr>\n",
       "    <tr>\n",
       "      <th>2020-07-13 04:52:56</th>\n",
       "      <td>25</td>\n",
       "      <td>1</td>\n",
       "      <td>won</td>\n",
       "      <td>341107</td>\n",
       "      <td>4403095</td>\n",
       "      <td>73600</td>\n",
       "      <td>1</td>\n",
       "      <td>29</td>\n",
       "      <td>1</td>\n",
       "    </tr>\n",
       "    <tr>\n",
       "      <th>2020-07-13 06:17:48</th>\n",
       "      <td>28</td>\n",
       "      <td>1</td>\n",
       "      <td>lost</td>\n",
       "      <td>0</td>\n",
       "      <td>6644327</td>\n",
       "      <td>0</td>\n",
       "      <td>0</td>\n",
       "      <td>29</td>\n",
       "      <td>0</td>\n",
       "    </tr>\n",
       "    <tr>\n",
       "      <th>2020-07-13 06:21:17</th>\n",
       "      <td>29</td>\n",
       "      <td>1</td>\n",
       "      <td>won</td>\n",
       "      <td>0</td>\n",
       "      <td>2148487</td>\n",
       "      <td>284000</td>\n",
       "      <td>1</td>\n",
       "      <td>29</td>\n",
       "      <td>1</td>\n",
       "    </tr>\n",
       "    <tr>\n",
       "      <th>...</th>\n",
       "      <td>...</td>\n",
       "      <td>...</td>\n",
       "      <td>...</td>\n",
       "      <td>...</td>\n",
       "      <td>...</td>\n",
       "      <td>...</td>\n",
       "      <td>...</td>\n",
       "      <td>...</td>\n",
       "      <td>...</td>\n",
       "    </tr>\n",
       "    <tr>\n",
       "      <th>2021-02-10 07:54:24</th>\n",
       "      <td>393</td>\n",
       "      <td>10</td>\n",
       "      <td>lost</td>\n",
       "      <td>2246711</td>\n",
       "      <td>2246711</td>\n",
       "      <td>0</td>\n",
       "      <td>0</td>\n",
       "      <td>6</td>\n",
       "      <td>0</td>\n",
       "    </tr>\n",
       "    <tr>\n",
       "      <th>2021-02-15 06:14:44</th>\n",
       "      <td>404</td>\n",
       "      <td>10</td>\n",
       "      <td>lost</td>\n",
       "      <td>1461060</td>\n",
       "      <td>1461060</td>\n",
       "      <td>0</td>\n",
       "      <td>0</td>\n",
       "      <td>7</td>\n",
       "      <td>0</td>\n",
       "    </tr>\n",
       "    <tr>\n",
       "      <th>2021-02-16 03:19:31</th>\n",
       "      <td>409</td>\n",
       "      <td>10</td>\n",
       "      <td>lost</td>\n",
       "      <td>1830169</td>\n",
       "      <td>1830169</td>\n",
       "      <td>0</td>\n",
       "      <td>0</td>\n",
       "      <td>7</td>\n",
       "      <td>0</td>\n",
       "    </tr>\n",
       "    <tr>\n",
       "      <th>2021-02-24 03:26:50</th>\n",
       "      <td>443</td>\n",
       "      <td>10</td>\n",
       "      <td>lost</td>\n",
       "      <td>516662</td>\n",
       "      <td>516662</td>\n",
       "      <td>0</td>\n",
       "      <td>0</td>\n",
       "      <td>8</td>\n",
       "      <td>0</td>\n",
       "    </tr>\n",
       "    <tr>\n",
       "      <th>2021-03-01 07:19:41</th>\n",
       "      <td>456</td>\n",
       "      <td>10</td>\n",
       "      <td>lost</td>\n",
       "      <td>180630</td>\n",
       "      <td>180630</td>\n",
       "      <td>0</td>\n",
       "      <td>0</td>\n",
       "      <td>9</td>\n",
       "      <td>0</td>\n",
       "    </tr>\n",
       "  </tbody>\n",
       "</table>\n",
       "<p>103 rows × 9 columns</p>\n",
       "</div>"
      ],
      "text/plain": [
       "                     deal_id  pipeline_id status  lead_to_meeting  \\\n",
       "add_time                                                            \n",
       "2020-07-13 03:42:29       11            1   lost           963200   \n",
       "2020-07-13 04:52:56       25            1    won           341107   \n",
       "2020-07-13 04:52:56       25            1    won           341107   \n",
       "2020-07-13 06:17:48       28            1   lost                0   \n",
       "2020-07-13 06:21:17       29            1    won                0   \n",
       "...                      ...          ...    ...              ...   \n",
       "2021-02-10 07:54:24      393           10   lost          2246711   \n",
       "2021-02-15 06:14:44      404           10   lost          1461060   \n",
       "2021-02-16 03:19:31      409           10   lost          1830169   \n",
       "2021-02-24 03:26:50      443           10   lost           516662   \n",
       "2021-03-01 07:19:41      456           10   lost           180630   \n",
       "\n",
       "                     meeting_to_Final   value lost_reason  week  status_  \n",
       "add_time                                                                  \n",
       "2020-07-13 03:42:29            963200       0           0    29        0  \n",
       "2020-07-13 04:52:56           4403095   73600           1    29        1  \n",
       "2020-07-13 04:52:56           4403095   73600           1    29        1  \n",
       "2020-07-13 06:17:48           6644327       0           0    29        0  \n",
       "2020-07-13 06:21:17           2148487  284000           1    29        1  \n",
       "...                               ...     ...         ...   ...      ...  \n",
       "2021-02-10 07:54:24           2246711       0           0     6        0  \n",
       "2021-02-15 06:14:44           1461060       0           0     7        0  \n",
       "2021-02-16 03:19:31           1830169       0           0     7        0  \n",
       "2021-02-24 03:26:50            516662       0           0     8        0  \n",
       "2021-03-01 07:19:41            180630       0           0     9        0  \n",
       "\n",
       "[103 rows x 9 columns]"
      ]
     },
     "execution_count": 17,
     "metadata": {},
     "output_type": "execute_result"
    }
   ],
   "source": [
    "deal_merge"
   ]
  },
  {
   "cell_type": "code",
   "execution_count": 18,
   "metadata": {},
   "outputs": [],
   "source": [
    "# deal_merge['meeting_to_Final'] = deal_merge['meeting_to_Final'].astype(float)\n",
    "deal_merge.meeting_to_Final = deal_merge.meeting_to_Final.div(3600)"
   ]
  },
  {
   "cell_type": "code",
   "execution_count": 19,
   "metadata": {},
   "outputs": [],
   "source": [
    "# deal_merge.meeting_to_Final"
   ]
  },
  {
   "cell_type": "code",
   "execution_count": 20,
   "metadata": {},
   "outputs": [
    {
     "data": {
      "text/plain": [
       "<AxesSubplot:xlabel='add_time'>"
      ]
     },
     "execution_count": 20,
     "metadata": {},
     "output_type": "execute_result"
    },
    {
     "data": {
      "image/png": "[encoded data removed]",
      "text/plain": [
       "<Figure size 432x288 with 1 Axes>"
      ]
     },
     "metadata": {
      "needs_background": "light"
     },
     "output_type": "display_data"
    }
   ],
   "source": [
    "cols_plot = ['meeting_to_Final']\n",
    "deal_merge[cols_plot].plot()"
   ]
  },
  {
   "cell_type": "code",
   "execution_count": 21,
   "metadata": {},
   "outputs": [
    {
     "data": {
      "text/plain": [
       "array([<AxesSubplot:xlabel='add_time'>, <AxesSubplot:xlabel='add_time'>,\n",
       "       <AxesSubplot:xlabel='add_time'>, <AxesSubplot:xlabel='add_time'>,\n",
       "       <AxesSubplot:xlabel='add_time'>, <AxesSubplot:xlabel='add_time'>,\n",
       "       <AxesSubplot:xlabel='add_time'>, <AxesSubplot:xlabel='add_time'>],\n",
       "      dtype=object)"
      ]
     },
     "execution_count": 21,
     "metadata": {},
     "output_type": "execute_result"
    },
    {
     "data": {
      "image/png": "[encoded data removed]",
      "text/plain": [
       "<Figure size 792x576 with 8 Axes>"
      ]
     },
     "metadata": {
      "needs_background": "light"
     },
     "output_type": "display_data"
    }
   ],
   "source": [
    "deal_merge.plot(marker='.', linestyle='None', figsize=(11,8), subplots=True, grid=True)"
   ]
  },
  {
   "cell_type": "code",
   "execution_count": 22,
   "metadata": {},
   "outputs": [],
   "source": [
    "# g = sns.pairplot(deal_merge)\n",
    "# g.fig.set_size_inches(9, 9)"
   ]
  },
  {
   "cell_type": "code",
   "execution_count": 23,
   "metadata": {},
   "outputs": [],
   "source": [
    "from scipy.stats import zscore\n",
    "\n",
    "# deal_merge['zscore_time'] = zscore(deal_merge.meeting_to_Final, ddof=0)"
   ]
  },
  {
   "cell_type": "code",
   "execution_count": 24,
   "metadata": {},
   "outputs": [],
   "source": [
    "# deal_merge"
   ]
  },
  {
   "cell_type": "code",
   "execution_count": null,
   "metadata": {},
   "outputs": [],
   "source": []
  },
  {
   "cell_type": "code",
   "execution_count": null,
   "metadata": {},
   "outputs": [],
   "source": []
  },
  {
   "cell_type": "code",
   "execution_count": null,
   "metadata": {},
   "outputs": [],
   "source": []
  },
  {
   "cell_type": "code",
   "execution_count": null,
   "metadata": {},
   "outputs": [],
   "source": []
  },
  {
   "cell_type": "code",
   "execution_count": 25,
   "metadata": {},
   "outputs": [
    {
     "data": {
      "text/plain": [
       "<AxesSubplot:>"
      ]
     },
     "execution_count": 25,
     "metadata": {},
     "output_type": "execute_result"
    },
    {
     "data": {
      "image/png": "[encoded data removed]",
      "text/plain": [
       "<Figure size 432x288 with 1 Axes>"
      ]
     },
     "metadata": {
      "needs_background": "light"
     },
     "output_type": "display_data"
    }
   ],
   "source": [
    "deal_merge.boxplot('meeting_to_Final')"
   ]
  },
  {
   "cell_type": "code",
   "execution_count": 26,
   "metadata": {},
   "outputs": [
    {
     "name": "stdout",
     "output_type": "stream",
     "text": [
      "Q1: 53.31944444444444\n",
      "Q3: 782.6105555555556\n",
      "IQR: 729.2911111111111\n",
      "Lower: -1040.62 \n",
      "Upper: 1876.55\n"
     ]
    }
   ],
   "source": [
    "\n",
    "q3 = deal_merge.meeting_to_Final.quantile(.75)\n",
    "q1 = deal_merge.meeting_to_Final.quantile(.25)\n",
    "\n",
    "# q1, q3= np.percentile(df.Buy, [25,75])\n",
    "\n",
    "iqr = q3 - q1\n",
    "\n",
    "print('Q1: {}' . format(q1))\n",
    "print('Q3: {}' . format(q3))\n",
    "print('IQR: {}' . format(iqr))\n",
    "\n",
    "upper = q3 + (1.5 * iqr)\n",
    "lower = q1 - (1.5 * iqr)\n",
    "print('Lower: {:.2f} \\nUpper: {:.2f}' . format(lower, upper))"
   ]
  },
  {
   "cell_type": "code",
   "execution_count": 27,
   "metadata": {},
   "outputs": [
    {
     "name": "stderr",
     "output_type": "stream",
     "text": [
      "/usr/local/lib/python3.8/site-packages/seaborn/_decorators.py:36: FutureWarning: Pass the following variable as a keyword arg: x. From version 0.12, the only valid positional argument will be `data`, and passing other arguments without an explicit keyword will result in an error or misinterpretation.\n",
      "  warnings.warn(\n"
     ]
    },
    {
     "data": {
      "image/png": "[encoded data removed]",
      "text/plain": [
       "<Figure size 432x288 with 1 Axes>"
      ]
     },
     "metadata": {
      "needs_background": "light"
     },
     "output_type": "display_data"
    }
   ],
   "source": [
    "plt.axvline(x=q1, c='b', linestyle='--', linewidth=1)\n",
    "plt.axvline(x=q3, c='g', linestyle='--', linewidth=1)\n",
    "plt.axvline(x=lower, c='r', linestyle='--')\n",
    "plt.axvline(x=upper, c='r', linestyle='--')\n",
    "sns.boxplot(deal_merge.meeting_to_Final, width=0.4, palette='Set2')\n",
    "plt.show()"
   ]
  },
  {
   "cell_type": "code",
   "execution_count": 28,
   "metadata": {},
   "outputs": [],
   "source": [
    "lead = pd.read_sql(\"lead_progress\", engine)"
   ]
  },
  {
   "cell_type": "code",
   "execution_count": 29,
   "metadata": {},
   "outputs": [
    {
     "data": {
      "text/html": [
       "<div>\n",
       "<style scoped>\n",
       "    .dataframe tbody tr th:only-of-type {\n",
       "        vertical-align: middle;\n",
       "    }\n",
       "\n",
       "    .dataframe tbody tr th {\n",
       "        vertical-align: top;\n",
       "    }\n",
       "\n",
       "    .dataframe thead th {\n",
       "        text-align: right;\n",
       "    }\n",
       "</style>\n",
       "<table border=\"1\" class=\"dataframe\">\n",
       "  <thead>\n",
       "    <tr style=\"text-align: right;\">\n",
       "      <th></th>\n",
       "      <th>week</th>\n",
       "      <th>status</th>\n",
       "      <th>Cost</th>\n",
       "      <th>clicks</th>\n",
       "      <th>impressions</th>\n",
       "    </tr>\n",
       "  </thead>\n",
       "  <tbody>\n",
       "    <tr>\n",
       "      <th>0</th>\n",
       "      <td>42</td>\n",
       "      <td>1</td>\n",
       "      <td>1950.53</td>\n",
       "      <td>158.0</td>\n",
       "      <td>49977.0</td>\n",
       "    </tr>\n",
       "    <tr>\n",
       "      <th>1</th>\n",
       "      <td>44</td>\n",
       "      <td>2</td>\n",
       "      <td>1131.68</td>\n",
       "      <td>475.0</td>\n",
       "      <td>44948.0</td>\n",
       "    </tr>\n",
       "    <tr>\n",
       "      <th>2</th>\n",
       "      <td>45</td>\n",
       "      <td>7</td>\n",
       "      <td>1380.95</td>\n",
       "      <td>336.0</td>\n",
       "      <td>7352.0</td>\n",
       "    </tr>\n",
       "    <tr>\n",
       "      <th>3</th>\n",
       "      <td>46</td>\n",
       "      <td>1</td>\n",
       "      <td>1501.54</td>\n",
       "      <td>370.0</td>\n",
       "      <td>10511.0</td>\n",
       "    </tr>\n",
       "    <tr>\n",
       "      <th>4</th>\n",
       "      <td>47</td>\n",
       "      <td>4</td>\n",
       "      <td>1585.33</td>\n",
       "      <td>420.0</td>\n",
       "      <td>14264.0</td>\n",
       "    </tr>\n",
       "    <tr>\n",
       "      <th>5</th>\n",
       "      <td>48</td>\n",
       "      <td>4</td>\n",
       "      <td>1693.97</td>\n",
       "      <td>1637.0</td>\n",
       "      <td>41693.0</td>\n",
       "    </tr>\n",
       "    <tr>\n",
       "      <th>6</th>\n",
       "      <td>49</td>\n",
       "      <td>2</td>\n",
       "      <td>3969.13</td>\n",
       "      <td>2897.0</td>\n",
       "      <td>62609.0</td>\n",
       "    </tr>\n",
       "    <tr>\n",
       "      <th>7</th>\n",
       "      <td>49</td>\n",
       "      <td>6</td>\n",
       "      <td>3969.13</td>\n",
       "      <td>2897.0</td>\n",
       "      <td>62609.0</td>\n",
       "    </tr>\n",
       "    <tr>\n",
       "      <th>8</th>\n",
       "      <td>50</td>\n",
       "      <td>2</td>\n",
       "      <td>2468.21</td>\n",
       "      <td>1638.0</td>\n",
       "      <td>53512.0</td>\n",
       "    </tr>\n",
       "    <tr>\n",
       "      <th>9</th>\n",
       "      <td>51</td>\n",
       "      <td>5</td>\n",
       "      <td>2218.27</td>\n",
       "      <td>466.0</td>\n",
       "      <td>15709.0</td>\n",
       "    </tr>\n",
       "    <tr>\n",
       "      <th>10</th>\n",
       "      <td>52</td>\n",
       "      <td>1</td>\n",
       "      <td>3927.64</td>\n",
       "      <td>1792.0</td>\n",
       "      <td>82276.0</td>\n",
       "    </tr>\n",
       "    <tr>\n",
       "      <th>11</th>\n",
       "      <td>53</td>\n",
       "      <td>1</td>\n",
       "      <td>738.27</td>\n",
       "      <td>422.0</td>\n",
       "      <td>2330.0</td>\n",
       "    </tr>\n",
       "    <tr>\n",
       "      <th>12</th>\n",
       "      <td>3</td>\n",
       "      <td>19</td>\n",
       "      <td>9964.86</td>\n",
       "      <td>2579.0</td>\n",
       "      <td>116926.0</td>\n",
       "    </tr>\n",
       "    <tr>\n",
       "      <th>13</th>\n",
       "      <td>4</td>\n",
       "      <td>21</td>\n",
       "      <td>8862.79</td>\n",
       "      <td>1934.0</td>\n",
       "      <td>120171.0</td>\n",
       "    </tr>\n",
       "    <tr>\n",
       "      <th>14</th>\n",
       "      <td>5</td>\n",
       "      <td>16</td>\n",
       "      <td>11230.47</td>\n",
       "      <td>2147.0</td>\n",
       "      <td>182956.0</td>\n",
       "    </tr>\n",
       "    <tr>\n",
       "      <th>15</th>\n",
       "      <td>6</td>\n",
       "      <td>14</td>\n",
       "      <td>8036.41</td>\n",
       "      <td>1773.0</td>\n",
       "      <td>113874.0</td>\n",
       "    </tr>\n",
       "    <tr>\n",
       "      <th>16</th>\n",
       "      <td>7</td>\n",
       "      <td>17</td>\n",
       "      <td>10575.38</td>\n",
       "      <td>3372.0</td>\n",
       "      <td>142205.0</td>\n",
       "    </tr>\n",
       "    <tr>\n",
       "      <th>17</th>\n",
       "      <td>8</td>\n",
       "      <td>10</td>\n",
       "      <td>10990.13</td>\n",
       "      <td>2186.0</td>\n",
       "      <td>127025.0</td>\n",
       "    </tr>\n",
       "    <tr>\n",
       "      <th>18</th>\n",
       "      <td>9</td>\n",
       "      <td>6</td>\n",
       "      <td>5330.07</td>\n",
       "      <td>1520.0</td>\n",
       "      <td>78731.0</td>\n",
       "    </tr>\n",
       "  </tbody>\n",
       "</table>\n",
       "</div>"
      ],
      "text/plain": [
       "    week  status      Cost  clicks  impressions\n",
       "0     42       1   1950.53   158.0      49977.0\n",
       "1     44       2   1131.68   475.0      44948.0\n",
       "2     45       7   1380.95   336.0       7352.0\n",
       "3     46       1   1501.54   370.0      10511.0\n",
       "4     47       4   1585.33   420.0      14264.0\n",
       "5     48       4   1693.97  1637.0      41693.0\n",
       "6     49       2   3969.13  2897.0      62609.0\n",
       "7     49       6   3969.13  2897.0      62609.0\n",
       "8     50       2   2468.21  1638.0      53512.0\n",
       "9     51       5   2218.27   466.0      15709.0\n",
       "10    52       1   3927.64  1792.0      82276.0\n",
       "11    53       1    738.27   422.0       2330.0\n",
       "12     3      19   9964.86  2579.0     116926.0\n",
       "13     4      21   8862.79  1934.0     120171.0\n",
       "14     5      16  11230.47  2147.0     182956.0\n",
       "15     6      14   8036.41  1773.0     113874.0\n",
       "16     7      17  10575.38  3372.0     142205.0\n",
       "17     8      10  10990.13  2186.0     127025.0\n",
       "18     9       6   5330.07  1520.0      78731.0"
      ]
     },
     "execution_count": 29,
     "metadata": {},
     "output_type": "execute_result"
    }
   ],
   "source": [
    "lead"
   ]
  },
  {
   "cell_type": "code",
   "execution_count": 30,
   "metadata": {},
   "outputs": [],
   "source": [
    "lead_count = lead[['week', 'status']]"
   ]
  },
  {
   "cell_type": "code",
   "execution_count": 31,
   "metadata": {},
   "outputs": [
    {
     "name": "stderr",
     "output_type": "stream",
     "text": [
      "/usr/local/lib/python3.8/site-packages/pandas/core/frame.py:4300: SettingWithCopyWarning: \n",
      "A value is trying to be set on a copy of a slice from a DataFrame\n",
      "\n",
      "See the caveats in the documentation: https://pandas.pydata.org/pandas-docs/stable/user_guide/indexing.html#returning-a-view-versus-a-copy\n",
      "  return super().rename(\n"
     ]
    }
   ],
   "source": [
    "lead_count.rename(columns={'status': 'lead'}, inplace=True)"
   ]
  },
  {
   "cell_type": "code",
   "execution_count": 32,
   "metadata": {},
   "outputs": [],
   "source": [
    "winrate = deal_merge.merge(lead_count, on='week', how='left')"
   ]
  },
  {
   "cell_type": "code",
   "execution_count": 33,
   "metadata": {},
   "outputs": [],
   "source": [
    "winrate.meeting_to_Final = winrate.meeting_to_Final.div(24).astype(int)\n",
    "winrate.value = winrate.value.div(1000).astype(int)"
   ]
  },
  {
   "cell_type": "code",
   "execution_count": 34,
   "metadata": {},
   "outputs": [],
   "source": [
    "winrate['lead'] = winrate['lead'].fillna(10) "
   ]
  },
  {
   "cell_type": "code",
   "execution_count": 35,
   "metadata": {},
   "outputs": [
    {
     "data": {
      "text/html": [
       "<div>\n",
       "<style scoped>\n",
       "    .dataframe tbody tr th:only-of-type {\n",
       "        vertical-align: middle;\n",
       "    }\n",
       "\n",
       "    .dataframe tbody tr th {\n",
       "        vertical-align: top;\n",
       "    }\n",
       "\n",
       "    .dataframe thead th {\n",
       "        text-align: right;\n",
       "    }\n",
       "</style>\n",
       "<table border=\"1\" class=\"dataframe\">\n",
       "  <thead>\n",
       "    <tr style=\"text-align: right;\">\n",
       "      <th></th>\n",
       "      <th>deal_id</th>\n",
       "      <th>pipeline_id</th>\n",
       "      <th>status</th>\n",
       "      <th>lead_to_meeting</th>\n",
       "      <th>meeting_to_Final</th>\n",
       "      <th>value</th>\n",
       "      <th>lost_reason</th>\n",
       "      <th>week</th>\n",
       "      <th>status_</th>\n",
       "      <th>lead</th>\n",
       "    </tr>\n",
       "  </thead>\n",
       "  <tbody>\n",
       "    <tr>\n",
       "      <th>0</th>\n",
       "      <td>11</td>\n",
       "      <td>1</td>\n",
       "      <td>lost</td>\n",
       "      <td>963200</td>\n",
       "      <td>11</td>\n",
       "      <td>0</td>\n",
       "      <td>0</td>\n",
       "      <td>29</td>\n",
       "      <td>0</td>\n",
       "      <td>10.0</td>\n",
       "    </tr>\n",
       "    <tr>\n",
       "      <th>1</th>\n",
       "      <td>25</td>\n",
       "      <td>1</td>\n",
       "      <td>won</td>\n",
       "      <td>341107</td>\n",
       "      <td>50</td>\n",
       "      <td>73</td>\n",
       "      <td>1</td>\n",
       "      <td>29</td>\n",
       "      <td>1</td>\n",
       "      <td>10.0</td>\n",
       "    </tr>\n",
       "    <tr>\n",
       "      <th>2</th>\n",
       "      <td>25</td>\n",
       "      <td>1</td>\n",
       "      <td>won</td>\n",
       "      <td>341107</td>\n",
       "      <td>50</td>\n",
       "      <td>73</td>\n",
       "      <td>1</td>\n",
       "      <td>29</td>\n",
       "      <td>1</td>\n",
       "      <td>10.0</td>\n",
       "    </tr>\n",
       "    <tr>\n",
       "      <th>3</th>\n",
       "      <td>28</td>\n",
       "      <td>1</td>\n",
       "      <td>lost</td>\n",
       "      <td>0</td>\n",
       "      <td>76</td>\n",
       "      <td>0</td>\n",
       "      <td>0</td>\n",
       "      <td>29</td>\n",
       "      <td>0</td>\n",
       "      <td>10.0</td>\n",
       "    </tr>\n",
       "    <tr>\n",
       "      <th>4</th>\n",
       "      <td>29</td>\n",
       "      <td>1</td>\n",
       "      <td>won</td>\n",
       "      <td>0</td>\n",
       "      <td>24</td>\n",
       "      <td>284</td>\n",
       "      <td>1</td>\n",
       "      <td>29</td>\n",
       "      <td>1</td>\n",
       "      <td>10.0</td>\n",
       "    </tr>\n",
       "    <tr>\n",
       "      <th>...</th>\n",
       "      <td>...</td>\n",
       "      <td>...</td>\n",
       "      <td>...</td>\n",
       "      <td>...</td>\n",
       "      <td>...</td>\n",
       "      <td>...</td>\n",
       "      <td>...</td>\n",
       "      <td>...</td>\n",
       "      <td>...</td>\n",
       "      <td>...</td>\n",
       "    </tr>\n",
       "    <tr>\n",
       "      <th>102</th>\n",
       "      <td>393</td>\n",
       "      <td>10</td>\n",
       "      <td>lost</td>\n",
       "      <td>2246711</td>\n",
       "      <td>26</td>\n",
       "      <td>0</td>\n",
       "      <td>0</td>\n",
       "      <td>6</td>\n",
       "      <td>0</td>\n",
       "      <td>14.0</td>\n",
       "    </tr>\n",
       "    <tr>\n",
       "      <th>103</th>\n",
       "      <td>404</td>\n",
       "      <td>10</td>\n",
       "      <td>lost</td>\n",
       "      <td>1461060</td>\n",
       "      <td>16</td>\n",
       "      <td>0</td>\n",
       "      <td>0</td>\n",
       "      <td>7</td>\n",
       "      <td>0</td>\n",
       "      <td>17.0</td>\n",
       "    </tr>\n",
       "    <tr>\n",
       "      <th>104</th>\n",
       "      <td>409</td>\n",
       "      <td>10</td>\n",
       "      <td>lost</td>\n",
       "      <td>1830169</td>\n",
       "      <td>21</td>\n",
       "      <td>0</td>\n",
       "      <td>0</td>\n",
       "      <td>7</td>\n",
       "      <td>0</td>\n",
       "      <td>17.0</td>\n",
       "    </tr>\n",
       "    <tr>\n",
       "      <th>105</th>\n",
       "      <td>443</td>\n",
       "      <td>10</td>\n",
       "      <td>lost</td>\n",
       "      <td>516662</td>\n",
       "      <td>5</td>\n",
       "      <td>0</td>\n",
       "      <td>0</td>\n",
       "      <td>8</td>\n",
       "      <td>0</td>\n",
       "      <td>10.0</td>\n",
       "    </tr>\n",
       "    <tr>\n",
       "      <th>106</th>\n",
       "      <td>456</td>\n",
       "      <td>10</td>\n",
       "      <td>lost</td>\n",
       "      <td>180630</td>\n",
       "      <td>2</td>\n",
       "      <td>0</td>\n",
       "      <td>0</td>\n",
       "      <td>9</td>\n",
       "      <td>0</td>\n",
       "      <td>6.0</td>\n",
       "    </tr>\n",
       "  </tbody>\n",
       "</table>\n",
       "<p>107 rows × 10 columns</p>\n",
       "</div>"
      ],
      "text/plain": [
       "     deal_id  pipeline_id status  lead_to_meeting  meeting_to_Final  value  \\\n",
       "0         11            1   lost           963200                11      0   \n",
       "1         25            1    won           341107                50     73   \n",
       "2         25            1    won           341107                50     73   \n",
       "3         28            1   lost                0                76      0   \n",
       "4         29            1    won                0                24    284   \n",
       "..       ...          ...    ...              ...               ...    ...   \n",
       "102      393           10   lost          2246711                26      0   \n",
       "103      404           10   lost          1461060                16      0   \n",
       "104      409           10   lost          1830169                21      0   \n",
       "105      443           10   lost           516662                 5      0   \n",
       "106      456           10   lost           180630                 2      0   \n",
       "\n",
       "    lost_reason  week  status_  lead  \n",
       "0             0    29        0  10.0  \n",
       "1             1    29        1  10.0  \n",
       "2             1    29        1  10.0  \n",
       "3             0    29        0  10.0  \n",
       "4             1    29        1  10.0  \n",
       "..          ...   ...      ...   ...  \n",
       "102           0     6        0  14.0  \n",
       "103           0     7        0  17.0  \n",
       "104           0     7        0  17.0  \n",
       "105           0     8        0  10.0  \n",
       "106           0     9        0   6.0  \n",
       "\n",
       "[107 rows x 10 columns]"
      ]
     },
     "execution_count": 35,
     "metadata": {},
     "output_type": "execute_result"
    }
   ],
   "source": [
    "winrate"
   ]
  },
  {
   "cell_type": "code",
   "execution_count": 45,
   "metadata": {},
   "outputs": [
    {
     "data": {
      "text/plain": [
       "array([<AxesSubplot:>, <AxesSubplot:>, <AxesSubplot:>, <AxesSubplot:>,\n",
       "       <AxesSubplot:>, <AxesSubplot:>, <AxesSubplot:>, <AxesSubplot:>,\n",
       "       <AxesSubplot:>], dtype=object)"
      ]
     },
     "execution_count": 45,
     "metadata": {},
     "output_type": "execute_result"
    },
    {
     "data": {
      "image/png": "[encoded data removed]",
      "text/plain": [
       "<Figure size 792x576 with 9 Axes>"
      ]
     },
     "metadata": {
      "needs_background": "light"
     },
     "output_type": "display_data"
    }
   ],
   "source": [
    "winrate.plot(marker='.', linestyle='None', figsize=(11,8), subplots=True, grid=True)"
   ]
  },
  {
   "cell_type": "code",
   "execution_count": 36,
   "metadata": {},
   "outputs": [],
   "source": [
    "from sklearn.neural_network import MLPClassifier\n",
    "from sklearn.datasets import make_classification\n",
    "from sklearn.model_selection import train_test_split\n",
    "\n",
    "# X, y = make_classification(n_samples=100, random_state=1)\n",
    "# X_train, X_test, y_train, y_test = train_test_split(X, y, stratify=y, random_state=1)"
   ]
  },
  {
   "cell_type": "code",
   "execution_count": 41,
   "metadata": {},
   "outputs": [],
   "source": [
    "X = winrate[['meeting_to_Final', 'value', 'lead']]\n",
    "y = winrate.status_\n",
    "X_train, X_test, y_train, y_test = train_test_split(X, y, random_state=1)"
   ]
  },
  {
   "cell_type": "code",
   "execution_count": 42,
   "metadata": {},
   "outputs": [],
   "source": [
    "clf = MLPClassifier(random_state=1, max_iter=1000, hidden_layer_sizes=(100, 200), activation='tanh',\n",
    "                   solver='sgd', ).fit(X_train, y_train)"
   ]
  },
  {
   "cell_type": "code",
   "execution_count": 43,
   "metadata": {},
   "outputs": [
    {
     "data": {
      "text/plain": [
       "1.0"
      ]
     },
     "execution_count": 43,
     "metadata": {},
     "output_type": "execute_result"
    }
   ],
   "source": [
    "clf.score(X_test, y_test)"
   ]
  },
  {
   "cell_type": "code",
   "execution_count": 44,
   "metadata": {},
   "outputs": [
    {
     "data": {
      "text/plain": [
       "array([0, 0, 0, 0, 0, 0, 0, 0, 0, 0, 0, 0, 0, 0, 0, 0, 0, 0, 1, 0, 0, 0,\n",
       "       0, 0, 0, 0, 0])"
      ]
     },
     "execution_count": 44,
     "metadata": {},
     "output_type": "execute_result"
    }
   ],
   "source": [
    "clf.predict(X_test)"
   ]
  },
  {
   "cell_type": "code",
   "execution_count": 46,
   "metadata": {},
   "outputs": [
    {
     "data": {
      "text/plain": [
       "DecisionTreeClassifier()"
      ]
     },
     "execution_count": 46,
     "metadata": {},
     "output_type": "execute_result"
    }
   ],
   "source": [
    "from sklearn.tree import DecisionTreeClassifier\n",
    "tree_model = DecisionTreeClassifier()\n",
    "\n",
    "tree_model.fit(X_train, y_train)"
   ]
  },
  {
   "cell_type": "code",
   "execution_count": 47,
   "metadata": {},
   "outputs": [
    {
     "data": {
      "text/plain": [
       "0.8888888888888888"
      ]
     },
     "execution_count": 47,
     "metadata": {},
     "output_type": "execute_result"
    }
   ],
   "source": [
    "tree_model.score(X_test,y_test)"
   ]
  },
  {
   "cell_type": "code",
   "execution_count": 48,
   "metadata": {},
   "outputs": [
    {
     "data": {
      "text/plain": [
       "array([0, 0, 0, 0, 0, 0, 0, 0, 0, 0, 0, 0, 0, 0, 0, 0, 0, 0, 0, 1, 0, 0,\n",
       "       0, 0, 0, 0, 1])"
      ]
     },
     "execution_count": 48,
     "metadata": {},
     "output_type": "execute_result"
    }
   ],
   "source": [
    "tree_model.predict(X_test)"
   ]
  },
  {
   "cell_type": "code",
   "execution_count": 62,
   "metadata": {},
   "outputs": [
    {
     "data": {
      "text/plain": [
       "Pipeline(steps=[('standardscaler', StandardScaler()),\n",
       "                ('svc', SVC(gamma='auto'))])"
      ]
     },
     "execution_count": 62,
     "metadata": {},
     "output_type": "execute_result"
    }
   ],
   "source": [
    "from sklearn.pipeline import make_pipeline\n",
    "from sklearn.preprocessing import StandardScaler\n",
    "\n",
    "from sklearn.svm import SVC\n",
    "\n",
    "clf_svc = make_pipeline(StandardScaler(), SVC(gamma='auto', kernel='rbf'))\n",
    "clf_svc.fit(X, y)"
   ]
  },
  {
   "cell_type": "code",
   "execution_count": 64,
   "metadata": {},
   "outputs": [
    {
     "data": {
      "text/plain": [
       "0.9439252336448598"
      ]
     },
     "execution_count": 64,
     "metadata": {},
     "output_type": "execute_result"
    }
   ],
   "source": [
    "clf_svc.score(X, y)"
   ]
  },
  {
   "cell_type": "code",
   "execution_count": null,
   "metadata": {},
   "outputs": [],
   "source": []
  },
  {
   "cell_type": "code",
   "execution_count": 66,
   "metadata": {},
   "outputs": [
    {
     "data": {
      "text/plain": [
       "CategoricalNB()"
      ]
     },
     "execution_count": 66,
     "metadata": {},
     "output_type": "execute_result"
    }
   ],
   "source": [
    "from sklearn.naive_bayes import CategoricalNB\n",
    "\n",
    "clf_nb = CategoricalNB()\n",
    "clf_nb.fit(X, y)"
   ]
  },
  {
   "cell_type": "code",
   "execution_count": 68,
   "metadata": {},
   "outputs": [
    {
     "data": {
      "text/plain": [
       "0.9158878504672897"
      ]
     },
     "execution_count": 68,
     "metadata": {},
     "output_type": "execute_result"
    }
   ],
   "source": [
    "clf_nb.score(X, y)"
   ]
  },
  {
   "cell_type": "code",
   "execution_count": 70,
   "metadata": {},
   "outputs": [
    {
     "data": {
      "text/plain": [
       "-0.006398874618823047"
      ]
     },
     "execution_count": 70,
     "metadata": {},
     "output_type": "execute_result"
    }
   ],
   "source": [
    "ln = LinearRegression().fit(X_train, y_train)\n",
    "ln.score(X_test,y_test)"
   ]
  },
  {
   "cell_type": "code",
   "execution_count": null,
   "metadata": {},
   "outputs": [],
   "source": []
  },
  {
   "cell_type": "code",
   "execution_count": 90,
   "metadata": {},
   "outputs": [
    {
     "data": {
      "text/plain": [
       "KNeighborsClassifier(n_neighbors=9)"
      ]
     },
     "execution_count": 90,
     "metadata": {},
     "output_type": "execute_result"
    }
   ],
   "source": [
    "from sklearn.neighbors import KNeighborsClassifier\n",
    "neigh = KNeighborsClassifier(n_neighbors=9)\n",
    "neigh.fit(X,y)"
   ]
  },
  {
   "cell_type": "code",
   "execution_count": 91,
   "metadata": {},
   "outputs": [
    {
     "data": {
      "text/plain": [
       "0.9439252336448598"
      ]
     },
     "execution_count": 91,
     "metadata": {},
     "output_type": "execute_result"
    }
   ],
   "source": [
    "neigh.score(X,y)"
   ]
  },
  {
   "cell_type": "code",
   "execution_count": null,
   "metadata": {},
   "outputs": [],
   "source": []
  }
 ],
 "metadata": {
  "kernelspec": {
   "display_name": "Django Shell-Plus",
   "language": "python",
   "name": "django_extensions"
  },
  "language_info": {
   "codemirror_mode": {
    "name": "ipython",
    "version": 3
   },
   "file_extension": ".py",
   "mimetype": "text/x-python",
   "name": "python",
   "nbconvert_exporter": "python",
   "pygments_lexer": "ipython3",
   "version": "3.8.7"
  }
 },
 "nbformat": 4,
 "nbformat_minor": 4
}
