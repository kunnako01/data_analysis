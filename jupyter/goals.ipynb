{
 "cells": [
  {
   "cell_type": "code",
   "execution_count": 1,
   "metadata": {},
   "outputs": [],
   "source": [
    "from pipedrive import Pipedrive\n",
    "import pandas as pd\n",
    "import gspread\n",
    "from gspread_dataframe import set_with_dataframe\n",
    "\n",
    "\n",
    "gc = gspread.service_account(filename=\"./credentials.json\")"
   ]
  },
  {
   "cell_type": "code",
   "execution_count": 2,
   "metadata": {},
   "outputs": [],
   "source": [
    "from main.apps.goals.jobs import goals_marketing"
   ]
  },
  {
   "cell_type": "code",
   "execution_count": 3,
   "metadata": {},
   "outputs": [
    {
     "data": {
      "text/plain": [
       "<GoalMarketing: GoalMarketing object (1)>"
      ]
     },
     "execution_count": 3,
     "metadata": {},
     "output_type": "execute_result"
    }
   ],
   "source": [
    "goals_marketing()"
   ]
  },
  {
   "cell_type": "code",
   "execution_count": 4,
   "metadata": {},
   "outputs": [
    {
     "data": {
      "text/plain": [
       "[['22,000', '45.00', '83.33%', '640.00', '1/8/2021']]"
      ]
     },
     "execution_count": 4,
     "metadata": {},
     "output_type": "execute_result"
    }
   ],
   "source": [
    "url = 'https://docs.google.com/spreadsheets/d/1uZNr1l_0J8U9XrZuG2g6GgCuEaDXQS1uAujQvMLAmDQ/'\n",
    "\n",
    "workbook = gc.open_by_url(url)\n",
    "sheet = workbook.get_worksheet(1)\n",
    "# df = pd.DataFrame(sheet.get_all_records())\n",
    "sheet.get_all_values()[1:]"
   ]
  },
  {
   "cell_type": "code",
   "execution_count": 5,
   "metadata": {},
   "outputs": [
    {
     "name": "stdout",
     "output_type": "stream",
     "text": [
      "0 22,000\n",
      "1 45.00\n",
      "2 83.33%\n",
      "3 640.00\n",
      "4 1/8/2021\n"
     ]
    }
   ],
   "source": [
    "goals = sheet.get_all_values()[1:]\n",
    "    \n",
    "for values in goals:\n",
    "    for idx, val in enumerate(values):\n",
    "        print(idx, val)\n"
   ]
  },
  {
   "cell_type": "code",
   "execution_count": null,
   "metadata": {},
   "outputs": [],
   "source": []
  }
 ],
 "metadata": {
  "kernelspec": {
   "display_name": "Django Shell-Plus",
   "language": "python",
   "name": "django_extensions"
  },
  "language_info": {
   "codemirror_mode": {
    "name": "ipython",
    "version": 3
   },
   "file_extension": ".py",
   "mimetype": "text/x-python",
   "name": "python",
   "nbconvert_exporter": "python",
   "pygments_lexer": "ipython3",
   "version": "3.8.6"
  }
 },
 "nbformat": 4,
 "nbformat_minor": 4
}
